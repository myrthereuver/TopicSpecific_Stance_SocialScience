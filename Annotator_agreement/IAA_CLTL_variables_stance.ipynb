{
 "cells": [
  {
   "cell_type": "code",
   "execution_count": 2,
   "id": "b5406bef",
   "metadata": {},
   "outputs": [],
   "source": [
    "import pandas as pd\n",
    "pd.set_option('display.max_rows', 500)\n",
    "pd.set_option('display.max_columns', 500)\n",
    "pd.set_option('display.width', 1000)"
   ]
  },
  {
   "cell_type": "code",
   "execution_count": 3,
   "id": "f79df944",
   "metadata": {},
   "outputs": [],
   "source": [
    "data_all = pd.read_csv(\"Power_Threat_CLTLtest_1.csv\")"
   ]
  },
  {
   "cell_type": "code",
   "execution_count": 4,
   "id": "6eb035d1-73ef-45c9-998e-629b90da10f7",
   "metadata": {},
   "outputs": [],
   "source": [
    "data_partial = pd.read_csv(\"Power_Threat_CLTLtest_2.csv\")"
   ]
  },
  {
   "cell_type": "code",
   "execution_count": 48,
   "id": "fd3c1740-c326-49f2-8667-c2a83b214a60",
   "metadata": {},
   "outputs": [],
   "source": [
    "data_crowd = pd.read_csv(\"new_big_annotation_stance.csv\")"
   ]
  },
  {
   "cell_type": "code",
   "execution_count": 5,
   "id": "dca3c08a",
   "metadata": {},
   "outputs": [],
   "source": [
    "filter_col = [col for col in data_all.columns if '_' in col]\n",
    "filter_col = [col for col in filter_col if \"PID\" not in col]\n",
    "filter_col = [col for col in filter_col if \"ImportId\" not in col]\n",
    "filter_col = [col for col in filter_col if \"below\" not in col]"
   ]
  },
  {
   "cell_type": "code",
   "execution_count": 6,
   "id": "5b137e91",
   "metadata": {},
   "outputs": [],
   "source": [
    "data_all.columns, data_all.iloc[0] = data_all.iloc[0].to_list(), data_all.columns"
   ]
  },
  {
   "cell_type": "code",
   "execution_count": 7,
   "id": "3af0783e",
   "metadata": {},
   "outputs": [],
   "source": [
    "data_all.columns = data_all.columns.str.split(\"-\").str[0]\n",
    "data_all.rename(columns={ data_all.columns[17]: \"consent\" }, inplace = True)"
   ]
  },
  {
   "cell_type": "code",
   "execution_count": 50,
   "id": "dc9f1a3b",
   "metadata": {},
   "outputs": [],
   "source": [
    "data_annotations = data_all[2:]\n",
    "transposed_annotations = data_annotations.T\n",
    "# transposed_annotations.columns = transposed_annotations.iloc[17]\n",
    "transposed_annotations = transposed_annotations[18:]"
   ]
  },
  {
   "cell_type": "code",
   "execution_count": 51,
   "id": "20bee22e",
   "metadata": {},
   "outputs": [
    {
     "data": {
      "text/plain": [
       "RangeIndex(start=2, stop=13, step=1)"
      ]
     },
     "execution_count": 51,
     "metadata": {},
     "output_type": "execute_result"
    }
   ],
   "source": [
    "transposed_annotations.columns"
   ]
  },
  {
   "cell_type": "markdown",
   "id": "952fa7c4",
   "metadata": {},
   "source": [
    "#### Threat"
   ]
  },
  {
   "cell_type": "code",
   "execution_count": 60,
   "id": "bbf7049f",
   "metadata": {},
   "outputs": [],
   "source": [
    "power_annotations = transposed_annotations[transposed_annotations[2].str.contains('IMPACT').fillna(False)]"
   ]
  },
  {
   "cell_type": "code",
   "execution_count": 61,
   "id": "5bbe0fc8",
   "metadata": {},
   "outputs": [
    {
     "name": "stdout",
     "output_type": "stream",
     "text": [
      "21\n"
     ]
    }
   ],
   "source": [
    "print(len(power_annotations))"
   ]
  },
  {
   "cell_type": "code",
   "execution_count": 62,
   "id": "fdf2ed85",
   "metadata": {},
   "outputs": [
    {
     "data": {
      "text/html": [
       "<div>\n",
       "<style scoped>\n",
       "    .dataframe tbody tr th:only-of-type {\n",
       "        vertical-align: middle;\n",
       "    }\n",
       "\n",
       "    .dataframe tbody tr th {\n",
       "        vertical-align: top;\n",
       "    }\n",
       "\n",
       "    .dataframe thead th {\n",
       "        text-align: right;\n",
       "    }\n",
       "</style>\n",
       "<table border=\"1\" class=\"dataframe\">\n",
       "  <thead>\n",
       "    <tr style=\"text-align: right;\">\n",
       "      <th></th>\n",
       "      <th>2</th>\n",
       "      <th>3</th>\n",
       "      <th>4</th>\n",
       "      <th>5</th>\n",
       "      <th>6</th>\n",
       "      <th>7</th>\n",
       "      <th>8</th>\n",
       "      <th>9</th>\n",
       "      <th>10</th>\n",
       "      <th>11</th>\n",
       "      <th>12</th>\n",
       "    </tr>\n",
       "  </thead>\n",
       "  <tbody>\n",
       "    <tr>\n",
       "      <th>101</th>\n",
       "      <td>The comment expresses feeling NO IMPACT</td>\n",
       "      <td>The comment expresses feeling NO IMPACT</td>\n",
       "      <td>The comment expresses feeling NO IMPACT</td>\n",
       "      <td>The comment expresses feeling NO IMPACT</td>\n",
       "      <td>The comment expresses feeling NO IMPACT</td>\n",
       "      <td>The comment expresses feeling NO IMPACT</td>\n",
       "      <td>The comment expresses feeling NO IMPACT</td>\n",
       "      <td>NaN</td>\n",
       "      <td>The comment expresses feeling NO IMPACT</td>\n",
       "      <td>The comment has NOT MENTIONED IMPACT</td>\n",
       "      <td>The comment expresses feeling NO IMPACT</td>\n",
       "    </tr>\n",
       "  </tbody>\n",
       "</table>\n",
       "</div>"
      ],
      "text/plain": [
       "                                           2                                        3                                        4                                        5                                        6                                        7                                        8    9                                        10                                    11                                       12\n",
       "101   The comment expresses feeling NO IMPACT  The comment expresses feeling NO IMPACT  The comment expresses feeling NO IMPACT  The comment expresses feeling NO IMPACT  The comment expresses feeling NO IMPACT  The comment expresses feeling NO IMPACT  The comment expresses feeling NO IMPACT  NaN  The comment expresses feeling NO IMPACT  The comment has NOT MENTIONED IMPACT  The comment expresses feeling NO IMPACT"
      ]
     },
     "execution_count": 62,
     "metadata": {},
     "output_type": "execute_result"
    }
   ],
   "source": [
    "power_annotations[-1:]"
   ]
  },
  {
   "cell_type": "code",
   "execution_count": 14,
   "id": "2e06fa01",
   "metadata": {},
   "outputs": [],
   "source": [
    "threat_annotations = transposed_annotations[transposed_annotations[2].str.contains('THREAT').fillna(False)]"
   ]
  },
  {
   "cell_type": "code",
   "execution_count": 15,
   "id": "6ef1e40d",
   "metadata": {},
   "outputs": [
    {
     "name": "stdout",
     "output_type": "stream",
     "text": [
      "18\n"
     ]
    }
   ],
   "source": [
    "print(len(threat_annotations))"
   ]
  },
  {
   "cell_type": "code",
   "execution_count": 16,
   "id": "d4ed94b6",
   "metadata": {},
   "outputs": [
    {
     "data": {
      "text/html": [
       "<div>\n",
       "<style scoped>\n",
       "    .dataframe tbody tr th:only-of-type {\n",
       "        vertical-align: middle;\n",
       "    }\n",
       "\n",
       "    .dataframe tbody tr th {\n",
       "        vertical-align: top;\n",
       "    }\n",
       "\n",
       "    .dataframe thead th {\n",
       "        text-align: right;\n",
       "    }\n",
       "</style>\n",
       "<table border=\"1\" class=\"dataframe\">\n",
       "  <thead>\n",
       "    <tr style=\"text-align: right;\">\n",
       "      <th></th>\n",
       "      <th>2</th>\n",
       "      <th>3</th>\n",
       "      <th>4</th>\n",
       "      <th>5</th>\n",
       "      <th>6</th>\n",
       "      <th>7</th>\n",
       "      <th>8</th>\n",
       "      <th>9</th>\n",
       "      <th>10</th>\n",
       "      <th>11</th>\n",
       "      <th>12</th>\n",
       "    </tr>\n",
       "  </thead>\n",
       "  <tbody>\n",
       "    <tr>\n",
       "      <th>3492674532</th>\n",
       "      <td>The comment has NOT MENTIONED THREAT</td>\n",
       "      <td>NaN</td>\n",
       "      <td>NaN</td>\n",
       "      <td>NaN</td>\n",
       "      <td>NaN</td>\n",
       "      <td>The comment expresses feeling THREAT</td>\n",
       "      <td>NaN</td>\n",
       "      <td>NaN</td>\n",
       "      <td>NaN</td>\n",
       "      <td>NaN</td>\n",
       "      <td>NaN</td>\n",
       "    </tr>\n",
       "    <tr>\n",
       "      <th>3492674533</th>\n",
       "      <td>The comment has NOT MENTIONED THREAT</td>\n",
       "      <td>NaN</td>\n",
       "      <td>NaN</td>\n",
       "      <td>The comment has NOT MENTIONED THREAT</td>\n",
       "      <td>NaN</td>\n",
       "      <td>The comment has NOT MENTIONED THREAT</td>\n",
       "      <td>The comment has NOT MENTIONED THREAT</td>\n",
       "      <td>NaN</td>\n",
       "      <td>The comment expresses feeling NO THREAT</td>\n",
       "      <td>NaN</td>\n",
       "      <td>NaN</td>\n",
       "    </tr>\n",
       "    <tr>\n",
       "      <th>3492674534</th>\n",
       "      <td>The comment has NOT MENTIONED THREAT</td>\n",
       "      <td>NaN</td>\n",
       "      <td>NaN</td>\n",
       "      <td>NaN</td>\n",
       "      <td>NaN</td>\n",
       "      <td>The comment has NOT MENTIONED THREAT</td>\n",
       "      <td>NaN</td>\n",
       "      <td>NaN</td>\n",
       "      <td>NaN</td>\n",
       "      <td>NaN</td>\n",
       "      <td>NaN</td>\n",
       "    </tr>\n",
       "    <tr>\n",
       "      <th>3492674535</th>\n",
       "      <td>The comment has NOT MENTIONED THREAT</td>\n",
       "      <td>NaN</td>\n",
       "      <td>NaN</td>\n",
       "      <td>The comment has NOT MENTIONED THREAT</td>\n",
       "      <td>NaN</td>\n",
       "      <td>NaN</td>\n",
       "      <td>NaN</td>\n",
       "      <td>NaN</td>\n",
       "      <td>NaN</td>\n",
       "      <td>NaN</td>\n",
       "      <td>NaN</td>\n",
       "    </tr>\n",
       "    <tr>\n",
       "      <th>3492674537</th>\n",
       "      <td>The comment expresses feeling THREAT</td>\n",
       "      <td>NaN</td>\n",
       "      <td>NaN</td>\n",
       "      <td>The comment has NOT MENTIONED THREAT</td>\n",
       "      <td>NaN</td>\n",
       "      <td>NaN</td>\n",
       "      <td>NaN</td>\n",
       "      <td>NaN</td>\n",
       "      <td>NaN</td>\n",
       "      <td>NaN</td>\n",
       "      <td>NaN</td>\n",
       "    </tr>\n",
       "  </tbody>\n",
       "</table>\n",
       "</div>"
      ],
      "text/plain": [
       "                                               2    3    4                                     5    6                                     7                                     8    9                                        10   11   12\n",
       "3492674532   The comment has NOT MENTIONED THREAT  NaN  NaN                                   NaN  NaN  The comment expresses feeling THREAT                                   NaN  NaN                                      NaN  NaN  NaN\n",
       "3492674533   The comment has NOT MENTIONED THREAT  NaN  NaN  The comment has NOT MENTIONED THREAT  NaN  The comment has NOT MENTIONED THREAT  The comment has NOT MENTIONED THREAT  NaN  The comment expresses feeling NO THREAT  NaN  NaN\n",
       "3492674534   The comment has NOT MENTIONED THREAT  NaN  NaN                                   NaN  NaN  The comment has NOT MENTIONED THREAT                                   NaN  NaN                                      NaN  NaN  NaN\n",
       "3492674535   The comment has NOT MENTIONED THREAT  NaN  NaN  The comment has NOT MENTIONED THREAT  NaN                                   NaN                                   NaN  NaN                                      NaN  NaN  NaN\n",
       "3492674537   The comment expresses feeling THREAT  NaN  NaN  The comment has NOT MENTIONED THREAT  NaN                                   NaN                                   NaN  NaN                                      NaN  NaN  NaN"
      ]
     },
     "execution_count": 16,
     "metadata": {},
     "output_type": "execute_result"
    }
   ],
   "source": [
    "threat_annotations[:5]"
   ]
  },
  {
   "cell_type": "code",
   "execution_count": 17,
   "id": "8eb35c7f",
   "metadata": {},
   "outputs": [],
   "source": [
    "threat_annotations = threat_annotations.replace(\"The comment expresses feeling THREAT\", 1)\n",
    "threat_annotations = threat_annotations.replace(\"The comment expresses feeling NO THREAT\", 2)\n",
    "threat_annotations = threat_annotations.replace(\"The comment has NOT MENTIONED THREAT\", 0)\n",
    "threat_annotations = threat_annotations.fillna(99)"
   ]
  },
  {
   "cell_type": "code",
   "execution_count": 44,
   "id": "90ddaad8-44e6-4fbc-b639-59279f4ff7e0",
   "metadata": {},
   "outputs": [
    {
     "data": {
      "text/html": [
       "<div>\n",
       "<style scoped>\n",
       "    .dataframe tbody tr th:only-of-type {\n",
       "        vertical-align: middle;\n",
       "    }\n",
       "\n",
       "    .dataframe tbody tr th {\n",
       "        vertical-align: top;\n",
       "    }\n",
       "\n",
       "    .dataframe thead th {\n",
       "        text-align: right;\n",
       "    }\n",
       "</style>\n",
       "<table border=\"1\" class=\"dataframe\">\n",
       "  <thead>\n",
       "    <tr style=\"text-align: right;\">\n",
       "      <th></th>\n",
       "      <th>2</th>\n",
       "      <th>3</th>\n",
       "      <th>4</th>\n",
       "      <th>5</th>\n",
       "      <th>6</th>\n",
       "      <th>7</th>\n",
       "      <th>8</th>\n",
       "      <th>9</th>\n",
       "      <th>10</th>\n",
       "      <th>11</th>\n",
       "      <th>12</th>\n",
       "    </tr>\n",
       "  </thead>\n",
       "  <tbody>\n",
       "    <tr>\n",
       "      <th>3492674532</th>\n",
       "      <td>0</td>\n",
       "      <td>99.0</td>\n",
       "      <td>99.0</td>\n",
       "      <td>99.0</td>\n",
       "      <td>99.0</td>\n",
       "      <td>1.0</td>\n",
       "      <td>99.0</td>\n",
       "      <td>99.0</td>\n",
       "      <td>99.0</td>\n",
       "      <td>99.0</td>\n",
       "      <td>99.0</td>\n",
       "    </tr>\n",
       "    <tr>\n",
       "      <th>3492674533</th>\n",
       "      <td>0</td>\n",
       "      <td>99.0</td>\n",
       "      <td>99.0</td>\n",
       "      <td>0.0</td>\n",
       "      <td>99.0</td>\n",
       "      <td>0.0</td>\n",
       "      <td>0.0</td>\n",
       "      <td>99.0</td>\n",
       "      <td>2.0</td>\n",
       "      <td>99.0</td>\n",
       "      <td>99.0</td>\n",
       "    </tr>\n",
       "    <tr>\n",
       "      <th>3492674534</th>\n",
       "      <td>0</td>\n",
       "      <td>99.0</td>\n",
       "      <td>99.0</td>\n",
       "      <td>99.0</td>\n",
       "      <td>99.0</td>\n",
       "      <td>0.0</td>\n",
       "      <td>99.0</td>\n",
       "      <td>99.0</td>\n",
       "      <td>99.0</td>\n",
       "      <td>99.0</td>\n",
       "      <td>99.0</td>\n",
       "    </tr>\n",
       "    <tr>\n",
       "      <th>3492674535</th>\n",
       "      <td>0</td>\n",
       "      <td>99.0</td>\n",
       "      <td>99.0</td>\n",
       "      <td>0.0</td>\n",
       "      <td>99.0</td>\n",
       "      <td>99.0</td>\n",
       "      <td>99.0</td>\n",
       "      <td>99.0</td>\n",
       "      <td>99.0</td>\n",
       "      <td>99.0</td>\n",
       "      <td>99.0</td>\n",
       "    </tr>\n",
       "    <tr>\n",
       "      <th>3492674537</th>\n",
       "      <td>1</td>\n",
       "      <td>99.0</td>\n",
       "      <td>99.0</td>\n",
       "      <td>0.0</td>\n",
       "      <td>99.0</td>\n",
       "      <td>99.0</td>\n",
       "      <td>99.0</td>\n",
       "      <td>99.0</td>\n",
       "      <td>99.0</td>\n",
       "      <td>99.0</td>\n",
       "      <td>99.0</td>\n",
       "    </tr>\n",
       "    <tr>\n",
       "      <th>3492674539</th>\n",
       "      <td>0</td>\n",
       "      <td>99.0</td>\n",
       "      <td>99.0</td>\n",
       "      <td>99.0</td>\n",
       "      <td>99.0</td>\n",
       "      <td>99.0</td>\n",
       "      <td>99.0</td>\n",
       "      <td>99.0</td>\n",
       "      <td>99.0</td>\n",
       "      <td>99.0</td>\n",
       "      <td>99.0</td>\n",
       "    </tr>\n",
       "    <tr>\n",
       "      <th>3492674540</th>\n",
       "      <td>0</td>\n",
       "      <td>99.0</td>\n",
       "      <td>99.0</td>\n",
       "      <td>99.0</td>\n",
       "      <td>99.0</td>\n",
       "      <td>0.0</td>\n",
       "      <td>99.0</td>\n",
       "      <td>99.0</td>\n",
       "      <td>1.0</td>\n",
       "      <td>99.0</td>\n",
       "      <td>99.0</td>\n",
       "    </tr>\n",
       "    <tr>\n",
       "      <th>3492674544</th>\n",
       "      <td>0</td>\n",
       "      <td>99.0</td>\n",
       "      <td>99.0</td>\n",
       "      <td>0.0</td>\n",
       "      <td>99.0</td>\n",
       "      <td>99.0</td>\n",
       "      <td>99.0</td>\n",
       "      <td>99.0</td>\n",
       "      <td>0.0</td>\n",
       "      <td>99.0</td>\n",
       "      <td>99.0</td>\n",
       "    </tr>\n",
       "    <tr>\n",
       "      <th>3492674549</th>\n",
       "      <td>0</td>\n",
       "      <td>99.0</td>\n",
       "      <td>99.0</td>\n",
       "      <td>99.0</td>\n",
       "      <td>99.0</td>\n",
       "      <td>1.0</td>\n",
       "      <td>99.0</td>\n",
       "      <td>99.0</td>\n",
       "      <td>1.0</td>\n",
       "      <td>99.0</td>\n",
       "      <td>99.0</td>\n",
       "    </tr>\n",
       "    <tr>\n",
       "      <th>3492674550</th>\n",
       "      <td>0</td>\n",
       "      <td>99.0</td>\n",
       "      <td>99.0</td>\n",
       "      <td>99.0</td>\n",
       "      <td>99.0</td>\n",
       "      <td>2.0</td>\n",
       "      <td>99.0</td>\n",
       "      <td>99.0</td>\n",
       "      <td>0.0</td>\n",
       "      <td>99.0</td>\n",
       "      <td>99.0</td>\n",
       "    </tr>\n",
       "    <tr>\n",
       "      <th>3492674552</th>\n",
       "      <td>0</td>\n",
       "      <td>99.0</td>\n",
       "      <td>99.0</td>\n",
       "      <td>0.0</td>\n",
       "      <td>99.0</td>\n",
       "      <td>2.0</td>\n",
       "      <td>99.0</td>\n",
       "      <td>99.0</td>\n",
       "      <td>99.0</td>\n",
       "      <td>99.0</td>\n",
       "      <td>99.0</td>\n",
       "    </tr>\n",
       "    <tr>\n",
       "      <th>3492674554</th>\n",
       "      <td>0</td>\n",
       "      <td>99.0</td>\n",
       "      <td>99.0</td>\n",
       "      <td>99.0</td>\n",
       "      <td>99.0</td>\n",
       "      <td>1.0</td>\n",
       "      <td>99.0</td>\n",
       "      <td>99.0</td>\n",
       "      <td>99.0</td>\n",
       "      <td>99.0</td>\n",
       "      <td>99.0</td>\n",
       "    </tr>\n",
       "    <tr>\n",
       "      <th>3492674557</th>\n",
       "      <td>1</td>\n",
       "      <td>99.0</td>\n",
       "      <td>99.0</td>\n",
       "      <td>99.0</td>\n",
       "      <td>99.0</td>\n",
       "      <td>1.0</td>\n",
       "      <td>0.0</td>\n",
       "      <td>99.0</td>\n",
       "      <td>99.0</td>\n",
       "      <td>99.0</td>\n",
       "      <td>99.0</td>\n",
       "    </tr>\n",
       "    <tr>\n",
       "      <th>3492674563</th>\n",
       "      <td>2</td>\n",
       "      <td>99.0</td>\n",
       "      <td>99.0</td>\n",
       "      <td>99.0</td>\n",
       "      <td>99.0</td>\n",
       "      <td>1.0</td>\n",
       "      <td>99.0</td>\n",
       "      <td>99.0</td>\n",
       "      <td>99.0</td>\n",
       "      <td>99.0</td>\n",
       "      <td>99.0</td>\n",
       "    </tr>\n",
       "    <tr>\n",
       "      <th>3492674564</th>\n",
       "      <td>0</td>\n",
       "      <td>99.0</td>\n",
       "      <td>99.0</td>\n",
       "      <td>99.0</td>\n",
       "      <td>99.0</td>\n",
       "      <td>99.0</td>\n",
       "      <td>99.0</td>\n",
       "      <td>99.0</td>\n",
       "      <td>99.0</td>\n",
       "      <td>99.0</td>\n",
       "      <td>99.0</td>\n",
       "    </tr>\n",
       "    <tr>\n",
       "      <th>3492674565</th>\n",
       "      <td>0</td>\n",
       "      <td>99.0</td>\n",
       "      <td>99.0</td>\n",
       "      <td>99.0</td>\n",
       "      <td>99.0</td>\n",
       "      <td>1.0</td>\n",
       "      <td>99.0</td>\n",
       "      <td>99.0</td>\n",
       "      <td>99.0</td>\n",
       "      <td>99.0</td>\n",
       "      <td>99.0</td>\n",
       "    </tr>\n",
       "    <tr>\n",
       "      <th>99</th>\n",
       "      <td>1</td>\n",
       "      <td>99.0</td>\n",
       "      <td>99.0</td>\n",
       "      <td>1.0</td>\n",
       "      <td>99.0</td>\n",
       "      <td>1.0</td>\n",
       "      <td>99.0</td>\n",
       "      <td>99.0</td>\n",
       "      <td>99.0</td>\n",
       "      <td>99.0</td>\n",
       "      <td>99.0</td>\n",
       "    </tr>\n",
       "    <tr>\n",
       "      <th>101</th>\n",
       "      <td>2</td>\n",
       "      <td>99.0</td>\n",
       "      <td>99.0</td>\n",
       "      <td>2.0</td>\n",
       "      <td>99.0</td>\n",
       "      <td>2.0</td>\n",
       "      <td>99.0</td>\n",
       "      <td>99.0</td>\n",
       "      <td>2.0</td>\n",
       "      <td>99.0</td>\n",
       "      <td>99.0</td>\n",
       "    </tr>\n",
       "  </tbody>\n",
       "</table>\n",
       "</div>"
      ],
      "text/plain": [
       "             2     3     4     5     6     7     8     9     10    11    12\n",
       "3492674532    0  99.0  99.0  99.0  99.0   1.0  99.0  99.0  99.0  99.0  99.0\n",
       "3492674533    0  99.0  99.0   0.0  99.0   0.0   0.0  99.0   2.0  99.0  99.0\n",
       "3492674534    0  99.0  99.0  99.0  99.0   0.0  99.0  99.0  99.0  99.0  99.0\n",
       "3492674535    0  99.0  99.0   0.0  99.0  99.0  99.0  99.0  99.0  99.0  99.0\n",
       "3492674537    1  99.0  99.0   0.0  99.0  99.0  99.0  99.0  99.0  99.0  99.0\n",
       "3492674539    0  99.0  99.0  99.0  99.0  99.0  99.0  99.0  99.0  99.0  99.0\n",
       "3492674540    0  99.0  99.0  99.0  99.0   0.0  99.0  99.0   1.0  99.0  99.0\n",
       "3492674544    0  99.0  99.0   0.0  99.0  99.0  99.0  99.0   0.0  99.0  99.0\n",
       "3492674549    0  99.0  99.0  99.0  99.0   1.0  99.0  99.0   1.0  99.0  99.0\n",
       "3492674550    0  99.0  99.0  99.0  99.0   2.0  99.0  99.0   0.0  99.0  99.0\n",
       "3492674552    0  99.0  99.0   0.0  99.0   2.0  99.0  99.0  99.0  99.0  99.0\n",
       "3492674554    0  99.0  99.0  99.0  99.0   1.0  99.0  99.0  99.0  99.0  99.0\n",
       "3492674557    1  99.0  99.0  99.0  99.0   1.0   0.0  99.0  99.0  99.0  99.0\n",
       "3492674563    2  99.0  99.0  99.0  99.0   1.0  99.0  99.0  99.0  99.0  99.0\n",
       "3492674564    0  99.0  99.0  99.0  99.0  99.0  99.0  99.0  99.0  99.0  99.0\n",
       "3492674565    0  99.0  99.0  99.0  99.0   1.0  99.0  99.0  99.0  99.0  99.0\n",
       "99            1  99.0  99.0   1.0  99.0   1.0  99.0  99.0  99.0  99.0  99.0\n",
       "101           2  99.0  99.0   2.0  99.0   2.0  99.0  99.0   2.0  99.0  99.0"
      ]
     },
     "execution_count": 44,
     "metadata": {},
     "output_type": "execute_result"
    }
   ],
   "source": [
    "threat_annotations"
   ]
  },
  {
   "cell_type": "code",
   "execution_count": 75,
   "id": "36a7dc54-608b-4807-b549-5dad268bccef",
   "metadata": {},
   "outputs": [],
   "source": [
    "threat_3 = threat_annotations[[2, 7]].astype(int)"
   ]
  },
  {
   "cell_type": "code",
   "execution_count": 84,
   "id": "02abbcd4-25b4-4bab-b6a6-d8675157dce7",
   "metadata": {},
   "outputs": [],
   "source": [
    "y_1 = threat_3[[2]].values\n",
    "y_2 = threat_3[[7]].values"
   ]
  },
  {
   "cell_type": "code",
   "execution_count": 69,
   "id": "a35ccb6b",
   "metadata": {},
   "outputs": [],
   "source": [
    "power_annotations = power_annotations.replace(\"The comment expresses feeling IMPACT\", 1)\n",
    "power_annotations = power_annotations.replace(\"The comment expresses feeling NO IMPACT\", 2)\n",
    "power_annotations = power_annotations.replace(\"The comment has NOT MENTIONED IMPACT\", 0)\n",
    "power_annotations = power_annotations.fillna(99)"
   ]
  },
  {
   "cell_type": "code",
   "execution_count": 70,
   "id": "0e2337fb-8eed-4cea-b842-9ebae504a127",
   "metadata": {},
   "outputs": [
    {
     "data": {
      "text/html": [
       "<div>\n",
       "<style scoped>\n",
       "    .dataframe tbody tr th:only-of-type {\n",
       "        vertical-align: middle;\n",
       "    }\n",
       "\n",
       "    .dataframe tbody tr th {\n",
       "        vertical-align: top;\n",
       "    }\n",
       "\n",
       "    .dataframe thead th {\n",
       "        text-align: right;\n",
       "    }\n",
       "</style>\n",
       "<table border=\"1\" class=\"dataframe\">\n",
       "  <thead>\n",
       "    <tr style=\"text-align: right;\">\n",
       "      <th></th>\n",
       "      <th>2</th>\n",
       "      <th>3</th>\n",
       "      <th>4</th>\n",
       "      <th>5</th>\n",
       "      <th>6</th>\n",
       "      <th>7</th>\n",
       "      <th>8</th>\n",
       "      <th>9</th>\n",
       "      <th>10</th>\n",
       "      <th>11</th>\n",
       "      <th>12</th>\n",
       "    </tr>\n",
       "  </thead>\n",
       "  <tbody>\n",
       "    <tr>\n",
       "      <th>3492674532</th>\n",
       "      <td>2</td>\n",
       "      <td>0</td>\n",
       "      <td>2</td>\n",
       "      <td>0</td>\n",
       "      <td>0.0</td>\n",
       "      <td>2</td>\n",
       "      <td>2</td>\n",
       "      <td>99.0</td>\n",
       "      <td>2</td>\n",
       "      <td>99.0</td>\n",
       "      <td>99.0</td>\n",
       "    </tr>\n",
       "    <tr>\n",
       "      <th>3492674533</th>\n",
       "      <td>2</td>\n",
       "      <td>2</td>\n",
       "      <td>0</td>\n",
       "      <td>2</td>\n",
       "      <td>0.0</td>\n",
       "      <td>0</td>\n",
       "      <td>0</td>\n",
       "      <td>0.0</td>\n",
       "      <td>2</td>\n",
       "      <td>99.0</td>\n",
       "      <td>2.0</td>\n",
       "    </tr>\n",
       "    <tr>\n",
       "      <th>3492674534</th>\n",
       "      <td>0</td>\n",
       "      <td>0</td>\n",
       "      <td>1</td>\n",
       "      <td>0</td>\n",
       "      <td>1.0</td>\n",
       "      <td>1</td>\n",
       "      <td>0</td>\n",
       "      <td>1.0</td>\n",
       "      <td>1</td>\n",
       "      <td>99.0</td>\n",
       "      <td>1.0</td>\n",
       "    </tr>\n",
       "    <tr>\n",
       "      <th>3492674535</th>\n",
       "      <td>0</td>\n",
       "      <td>0</td>\n",
       "      <td>0</td>\n",
       "      <td>0</td>\n",
       "      <td>99.0</td>\n",
       "      <td>1</td>\n",
       "      <td>0</td>\n",
       "      <td>1.0</td>\n",
       "      <td>1</td>\n",
       "      <td>1.0</td>\n",
       "      <td>1.0</td>\n",
       "    </tr>\n",
       "    <tr>\n",
       "      <th>3492674537</th>\n",
       "      <td>0</td>\n",
       "      <td>0</td>\n",
       "      <td>1</td>\n",
       "      <td>1</td>\n",
       "      <td>0.0</td>\n",
       "      <td>1</td>\n",
       "      <td>0</td>\n",
       "      <td>2.0</td>\n",
       "      <td>2</td>\n",
       "      <td>99.0</td>\n",
       "      <td>0.0</td>\n",
       "    </tr>\n",
       "    <tr>\n",
       "      <th>3492674539</th>\n",
       "      <td>0</td>\n",
       "      <td>2</td>\n",
       "      <td>1</td>\n",
       "      <td>0</td>\n",
       "      <td>0.0</td>\n",
       "      <td>1</td>\n",
       "      <td>0</td>\n",
       "      <td>1.0</td>\n",
       "      <td>0</td>\n",
       "      <td>99.0</td>\n",
       "      <td>2.0</td>\n",
       "    </tr>\n",
       "    <tr>\n",
       "      <th>3492674540</th>\n",
       "      <td>0</td>\n",
       "      <td>2</td>\n",
       "      <td>0</td>\n",
       "      <td>0</td>\n",
       "      <td>0.0</td>\n",
       "      <td>0</td>\n",
       "      <td>0</td>\n",
       "      <td>99.0</td>\n",
       "      <td>1</td>\n",
       "      <td>99.0</td>\n",
       "      <td>99.0</td>\n",
       "    </tr>\n",
       "    <tr>\n",
       "      <th>3492674541</th>\n",
       "      <td>0</td>\n",
       "      <td>1</td>\n",
       "      <td>0</td>\n",
       "      <td>0</td>\n",
       "      <td>0.0</td>\n",
       "      <td>0</td>\n",
       "      <td>0</td>\n",
       "      <td>99.0</td>\n",
       "      <td>0</td>\n",
       "      <td>99.0</td>\n",
       "      <td>0.0</td>\n",
       "    </tr>\n",
       "    <tr>\n",
       "      <th>3492674542</th>\n",
       "      <td>2</td>\n",
       "      <td>0</td>\n",
       "      <td>2</td>\n",
       "      <td>0</td>\n",
       "      <td>0.0</td>\n",
       "      <td>2</td>\n",
       "      <td>0</td>\n",
       "      <td>1.0</td>\n",
       "      <td>1</td>\n",
       "      <td>99.0</td>\n",
       "      <td>0.0</td>\n",
       "    </tr>\n",
       "    <tr>\n",
       "      <th>3492674544</th>\n",
       "      <td>0</td>\n",
       "      <td>0</td>\n",
       "      <td>0</td>\n",
       "      <td>0</td>\n",
       "      <td>0.0</td>\n",
       "      <td>0</td>\n",
       "      <td>0</td>\n",
       "      <td>99.0</td>\n",
       "      <td>0</td>\n",
       "      <td>99.0</td>\n",
       "      <td>0.0</td>\n",
       "    </tr>\n",
       "    <tr>\n",
       "      <th>3492674549</th>\n",
       "      <td>0</td>\n",
       "      <td>1</td>\n",
       "      <td>0</td>\n",
       "      <td>1</td>\n",
       "      <td>1.0</td>\n",
       "      <td>1</td>\n",
       "      <td>1</td>\n",
       "      <td>99.0</td>\n",
       "      <td>1</td>\n",
       "      <td>99.0</td>\n",
       "      <td>99.0</td>\n",
       "    </tr>\n",
       "    <tr>\n",
       "      <th>3492674550</th>\n",
       "      <td>0</td>\n",
       "      <td>0</td>\n",
       "      <td>1</td>\n",
       "      <td>2</td>\n",
       "      <td>0.0</td>\n",
       "      <td>0</td>\n",
       "      <td>0</td>\n",
       "      <td>99.0</td>\n",
       "      <td>0</td>\n",
       "      <td>99.0</td>\n",
       "      <td>0.0</td>\n",
       "    </tr>\n",
       "    <tr>\n",
       "      <th>3492674551</th>\n",
       "      <td>2</td>\n",
       "      <td>0</td>\n",
       "      <td>0</td>\n",
       "      <td>1</td>\n",
       "      <td>0.0</td>\n",
       "      <td>0</td>\n",
       "      <td>0</td>\n",
       "      <td>99.0</td>\n",
       "      <td>1</td>\n",
       "      <td>99.0</td>\n",
       "      <td>99.0</td>\n",
       "    </tr>\n",
       "    <tr>\n",
       "      <th>3492674552</th>\n",
       "      <td>0</td>\n",
       "      <td>2</td>\n",
       "      <td>2</td>\n",
       "      <td>0</td>\n",
       "      <td>0.0</td>\n",
       "      <td>0</td>\n",
       "      <td>0</td>\n",
       "      <td>99.0</td>\n",
       "      <td>1</td>\n",
       "      <td>99.0</td>\n",
       "      <td>2.0</td>\n",
       "    </tr>\n",
       "    <tr>\n",
       "      <th>3492674554</th>\n",
       "      <td>2</td>\n",
       "      <td>2</td>\n",
       "      <td>2</td>\n",
       "      <td>2</td>\n",
       "      <td>2.0</td>\n",
       "      <td>2</td>\n",
       "      <td>2</td>\n",
       "      <td>99.0</td>\n",
       "      <td>1</td>\n",
       "      <td>99.0</td>\n",
       "      <td>2.0</td>\n",
       "    </tr>\n",
       "    <tr>\n",
       "      <th>3492674557</th>\n",
       "      <td>0</td>\n",
       "      <td>0</td>\n",
       "      <td>2</td>\n",
       "      <td>0</td>\n",
       "      <td>2.0</td>\n",
       "      <td>2</td>\n",
       "      <td>0</td>\n",
       "      <td>99.0</td>\n",
       "      <td>2</td>\n",
       "      <td>99.0</td>\n",
       "      <td>0.0</td>\n",
       "    </tr>\n",
       "    <tr>\n",
       "      <th>3492674563</th>\n",
       "      <td>2</td>\n",
       "      <td>0</td>\n",
       "      <td>0</td>\n",
       "      <td>2</td>\n",
       "      <td>2.0</td>\n",
       "      <td>2</td>\n",
       "      <td>2</td>\n",
       "      <td>99.0</td>\n",
       "      <td>1</td>\n",
       "      <td>99.0</td>\n",
       "      <td>2.0</td>\n",
       "    </tr>\n",
       "    <tr>\n",
       "      <th>3492674564</th>\n",
       "      <td>0</td>\n",
       "      <td>0</td>\n",
       "      <td>0</td>\n",
       "      <td>0</td>\n",
       "      <td>0.0</td>\n",
       "      <td>0</td>\n",
       "      <td>0</td>\n",
       "      <td>1.0</td>\n",
       "      <td>2</td>\n",
       "      <td>99.0</td>\n",
       "      <td>0.0</td>\n",
       "    </tr>\n",
       "    <tr>\n",
       "      <th>3492674565</th>\n",
       "      <td>1</td>\n",
       "      <td>0</td>\n",
       "      <td>1</td>\n",
       "      <td>1</td>\n",
       "      <td>99.0</td>\n",
       "      <td>1</td>\n",
       "      <td>1</td>\n",
       "      <td>99.0</td>\n",
       "      <td>1</td>\n",
       "      <td>99.0</td>\n",
       "      <td>1.0</td>\n",
       "    </tr>\n",
       "    <tr>\n",
       "      <th>99</th>\n",
       "      <td>1</td>\n",
       "      <td>1</td>\n",
       "      <td>1</td>\n",
       "      <td>1</td>\n",
       "      <td>1.0</td>\n",
       "      <td>1</td>\n",
       "      <td>1</td>\n",
       "      <td>1.0</td>\n",
       "      <td>1</td>\n",
       "      <td>99.0</td>\n",
       "      <td>1.0</td>\n",
       "    </tr>\n",
       "    <tr>\n",
       "      <th>101</th>\n",
       "      <td>2</td>\n",
       "      <td>2</td>\n",
       "      <td>2</td>\n",
       "      <td>2</td>\n",
       "      <td>2.0</td>\n",
       "      <td>2</td>\n",
       "      <td>2</td>\n",
       "      <td>99.0</td>\n",
       "      <td>2</td>\n",
       "      <td>0.0</td>\n",
       "      <td>2.0</td>\n",
       "    </tr>\n",
       "  </tbody>\n",
       "</table>\n",
       "</div>"
      ],
      "text/plain": [
       "             2   3   4   5     6   7   8     9   10    11    12\n",
       "3492674532    2   0   2   0   0.0   2   2  99.0   2  99.0  99.0\n",
       "3492674533    2   2   0   2   0.0   0   0   0.0   2  99.0   2.0\n",
       "3492674534    0   0   1   0   1.0   1   0   1.0   1  99.0   1.0\n",
       "3492674535    0   0   0   0  99.0   1   0   1.0   1   1.0   1.0\n",
       "3492674537    0   0   1   1   0.0   1   0   2.0   2  99.0   0.0\n",
       "3492674539    0   2   1   0   0.0   1   0   1.0   0  99.0   2.0\n",
       "3492674540    0   2   0   0   0.0   0   0  99.0   1  99.0  99.0\n",
       "3492674541    0   1   0   0   0.0   0   0  99.0   0  99.0   0.0\n",
       "3492674542    2   0   2   0   0.0   2   0   1.0   1  99.0   0.0\n",
       "3492674544    0   0   0   0   0.0   0   0  99.0   0  99.0   0.0\n",
       "3492674549    0   1   0   1   1.0   1   1  99.0   1  99.0  99.0\n",
       "3492674550    0   0   1   2   0.0   0   0  99.0   0  99.0   0.0\n",
       "3492674551    2   0   0   1   0.0   0   0  99.0   1  99.0  99.0\n",
       "3492674552    0   2   2   0   0.0   0   0  99.0   1  99.0   2.0\n",
       "3492674554    2   2   2   2   2.0   2   2  99.0   1  99.0   2.0\n",
       "3492674557    0   0   2   0   2.0   2   0  99.0   2  99.0   0.0\n",
       "3492674563    2   0   0   2   2.0   2   2  99.0   1  99.0   2.0\n",
       "3492674564    0   0   0   0   0.0   0   0   1.0   2  99.0   0.0\n",
       "3492674565    1   0   1   1  99.0   1   1  99.0   1  99.0   1.0\n",
       "99            1   1   1   1   1.0   1   1   1.0   1  99.0   1.0\n",
       "101           2   2   2   2   2.0   2   2  99.0   2   0.0   2.0"
      ]
     },
     "execution_count": 70,
     "metadata": {},
     "output_type": "execute_result"
    }
   ],
   "source": [
    "power_annotations"
   ]
  },
  {
   "cell_type": "code",
   "execution_count": 65,
   "id": "3d3b6421-181d-4af9-b82e-d7c124c6cc2f",
   "metadata": {},
   "outputs": [],
   "source": [
    "power_5 = power_annotations[[2, 3, 4, 5]]"
   ]
  },
  {
   "cell_type": "code",
   "execution_count": 66,
   "id": "ad713d2b",
   "metadata": {},
   "outputs": [
    {
     "data": {
      "text/plain": [
       "0.2555970149253733"
      ]
     },
     "execution_count": 66,
     "metadata": {},
     "output_type": "execute_result"
    }
   ],
   "source": [
    "from statsmodels.stats import inter_rater as irr\n",
    "irr.fleiss_kappa(irr.aggregate_raters(power_5)[0], method='fleiss')"
   ]
  },
  {
   "cell_type": "code",
   "execution_count": 86,
   "id": "d8101b42-8887-4e20-9946-9dec74c16ddf",
   "metadata": {},
   "outputs": [
    {
     "data": {
      "text/plain": [
       "0.16279069767441867"
      ]
     },
     "execution_count": 86,
     "metadata": {},
     "output_type": "execute_result"
    }
   ],
   "source": [
    "from sklearn.metrics import cohen_kappa_score\n",
    "cohen_kappa_score(y_1, y_2)"
   ]
  },
  {
   "cell_type": "code",
   "execution_count": 78,
   "id": "9e9c8a7b",
   "metadata": {},
   "outputs": [
    {
     "ename": "ValueError",
     "evalue": "operands could not be broadcast together with shapes (18,) (4,) ",
     "output_type": "error",
     "traceback": [
      "\u001b[0;31m---------------------------------------------------------------------------\u001b[0m",
      "\u001b[0;31mValueError\u001b[0m                                Traceback (most recent call last)",
      "\u001b[0;32m<ipython-input-78-4fb4518232c9>\u001b[0m in \u001b[0;36m<module>\u001b[0;34m\u001b[0m\n\u001b[1;32m      1\u001b[0m \u001b[0;32mfrom\u001b[0m \u001b[0mstatsmodels\u001b[0m\u001b[0;34m.\u001b[0m\u001b[0mstats\u001b[0m \u001b[0;32mimport\u001b[0m \u001b[0minter_rater\u001b[0m \u001b[0;32mas\u001b[0m \u001b[0mirr\u001b[0m\u001b[0;34m\u001b[0m\u001b[0;34m\u001b[0m\u001b[0m\n\u001b[0;32m----> 2\u001b[0;31m \u001b[0mirr\u001b[0m\u001b[0;34m.\u001b[0m\u001b[0mcohens_kappa\u001b[0m\u001b[0;34m(\u001b[0m\u001b[0mirr\u001b[0m\u001b[0;34m.\u001b[0m\u001b[0maggregate_raters\u001b[0m\u001b[0;34m(\u001b[0m\u001b[0mthreat_3\u001b[0m\u001b[0;34m)\u001b[0m\u001b[0;34m[\u001b[0m\u001b[0;36m0\u001b[0m\u001b[0;34m]\u001b[0m\u001b[0;34m)\u001b[0m\u001b[0;34m\u001b[0m\u001b[0;34m\u001b[0m\u001b[0m\n\u001b[0m",
      "\u001b[0;32m/Library/Frameworks/Python.framework/Versions/3.9/lib/python3.9/site-packages/statsmodels/stats/inter_rater.py\u001b[0m in \u001b[0;36mcohens_kappa\u001b[0;34m(table, weights, return_results, wt)\u001b[0m\n\u001b[1;32m    357\u001b[0m         \u001b[0;32mif\u001b[0m \u001b[0mreturn_results\u001b[0m\u001b[0;34m:\u001b[0m\u001b[0;34m\u001b[0m\u001b[0;34m\u001b[0m\u001b[0m\n\u001b[1;32m    358\u001b[0m             \u001b[0;31m#variance\u001b[0m\u001b[0;34m\u001b[0m\u001b[0;34m\u001b[0m\u001b[0;34m\u001b[0m\u001b[0m\n\u001b[0;32m--> 359\u001b[0;31m             \u001b[0mterm_a\u001b[0m \u001b[0;34m=\u001b[0m \u001b[0mprobs_diag\u001b[0m \u001b[0;34m*\u001b[0m \u001b[0;34m(\u001b[0m\u001b[0;36m1\u001b[0m \u001b[0;34m-\u001b[0m \u001b[0;34m(\u001b[0m\u001b[0mfreq_row\u001b[0m \u001b[0;34m+\u001b[0m \u001b[0mfreq_col\u001b[0m\u001b[0;34m)\u001b[0m \u001b[0;34m*\u001b[0m \u001b[0;34m(\u001b[0m\u001b[0;36m1\u001b[0m \u001b[0;34m-\u001b[0m \u001b[0mkappa\u001b[0m\u001b[0;34m)\u001b[0m\u001b[0;34m)\u001b[0m\u001b[0;34m**\u001b[0m\u001b[0;36m2\u001b[0m\u001b[0;34m\u001b[0m\u001b[0;34m\u001b[0m\u001b[0m\n\u001b[0m\u001b[1;32m    360\u001b[0m             \u001b[0mterm_a\u001b[0m \u001b[0;34m=\u001b[0m \u001b[0mterm_a\u001b[0m\u001b[0;34m.\u001b[0m\u001b[0msum\u001b[0m\u001b[0;34m(\u001b[0m\u001b[0;34m)\u001b[0m\u001b[0;34m\u001b[0m\u001b[0;34m\u001b[0m\u001b[0m\n\u001b[1;32m    361\u001b[0m             \u001b[0mterm_b\u001b[0m \u001b[0;34m=\u001b[0m \u001b[0mprobs\u001b[0m \u001b[0;34m*\u001b[0m \u001b[0;34m(\u001b[0m\u001b[0mfreq_col\u001b[0m\u001b[0;34m[\u001b[0m\u001b[0;34m:\u001b[0m\u001b[0;34m,\u001b[0m \u001b[0;32mNone\u001b[0m\u001b[0;34m]\u001b[0m \u001b[0;34m+\u001b[0m \u001b[0mfreq_row\u001b[0m\u001b[0;34m)\u001b[0m\u001b[0;34m**\u001b[0m\u001b[0;36m2\u001b[0m\u001b[0;34m\u001b[0m\u001b[0;34m\u001b[0m\u001b[0m\n",
      "\u001b[0;31mValueError\u001b[0m: operands could not be broadcast together with shapes (18,) (4,) "
     ]
    }
   ],
   "source": [
    "from statsmodels.stats import inter_rater as irr\n",
    "irr.cohens_kappa(irr.aggregate_raters(threat_3)[0])"
   ]
  },
  {
   "cell_type": "code",
   "execution_count": 64,
   "id": "1423612e",
   "metadata": {},
   "outputs": [],
   "source": [
    "power_annotations[\"mode\"] = power_annotations.mode(axis=1)[0]"
   ]
  },
  {
   "cell_type": "code",
   "execution_count": 65,
   "id": "de26f7ff",
   "metadata": {},
   "outputs": [],
   "source": [
    "threat_annotations[\"mode\"] = threat_annotations.mode(axis=1)[0]"
   ]
  },
  {
   "cell_type": "code",
   "execution_count": 66,
   "id": "60779814",
   "metadata": {},
   "outputs": [
    {
     "data": {
      "text/plain": [
       "0.0    13\n",
       "2.0     4\n",
       "1.0     4\n",
       "Name: mode, dtype: int64"
      ]
     },
     "execution_count": 66,
     "metadata": {},
     "output_type": "execute_result"
    }
   ],
   "source": [
    "power_annotations[\"mode\"].value_counts()"
   ]
  },
  {
   "cell_type": "code",
   "execution_count": 113,
   "id": "b651afbc",
   "metadata": {},
   "outputs": [],
   "source": [
    "threat_annotations = threat_annotations[['5f3c4372d64ff120268a0b0b', '62b2476fc924f1a048bd412b', '592fbec4cf0d9600010e8a89', '594ee6531ebf4800018a4854', '60d432ce6e413e7509dd4b78']]"
   ]
  },
  {
   "cell_type": "code",
   "execution_count": 87,
   "id": "b6528f7d-5833-4e83-93b4-569747589be6",
   "metadata": {},
   "outputs": [
    {
     "data": {
      "text/html": [
       "<div>\n",
       "<style scoped>\n",
       "    .dataframe tbody tr th:only-of-type {\n",
       "        vertical-align: middle;\n",
       "    }\n",
       "\n",
       "    .dataframe tbody tr th {\n",
       "        vertical-align: top;\n",
       "    }\n",
       "\n",
       "    .dataframe thead th {\n",
       "        text-align: right;\n",
       "    }\n",
       "</style>\n",
       "<table border=\"1\" class=\"dataframe\">\n",
       "  <thead>\n",
       "    <tr style=\"text-align: right;\">\n",
       "      <th></th>\n",
       "      <th>2</th>\n",
       "      <th>7</th>\n",
       "    </tr>\n",
       "  </thead>\n",
       "  <tbody>\n",
       "    <tr>\n",
       "      <th>3492674532</th>\n",
       "      <td>0</td>\n",
       "      <td>1</td>\n",
       "    </tr>\n",
       "    <tr>\n",
       "      <th>3492674533</th>\n",
       "      <td>0</td>\n",
       "      <td>0</td>\n",
       "    </tr>\n",
       "    <tr>\n",
       "      <th>3492674534</th>\n",
       "      <td>0</td>\n",
       "      <td>0</td>\n",
       "    </tr>\n",
       "    <tr>\n",
       "      <th>3492674535</th>\n",
       "      <td>0</td>\n",
       "      <td>99</td>\n",
       "    </tr>\n",
       "    <tr>\n",
       "      <th>3492674537</th>\n",
       "      <td>1</td>\n",
       "      <td>99</td>\n",
       "    </tr>\n",
       "    <tr>\n",
       "      <th>3492674539</th>\n",
       "      <td>0</td>\n",
       "      <td>99</td>\n",
       "    </tr>\n",
       "    <tr>\n",
       "      <th>3492674540</th>\n",
       "      <td>0</td>\n",
       "      <td>0</td>\n",
       "    </tr>\n",
       "    <tr>\n",
       "      <th>3492674544</th>\n",
       "      <td>0</td>\n",
       "      <td>99</td>\n",
       "    </tr>\n",
       "    <tr>\n",
       "      <th>3492674549</th>\n",
       "      <td>0</td>\n",
       "      <td>1</td>\n",
       "    </tr>\n",
       "    <tr>\n",
       "      <th>3492674550</th>\n",
       "      <td>0</td>\n",
       "      <td>2</td>\n",
       "    </tr>\n",
       "    <tr>\n",
       "      <th>3492674552</th>\n",
       "      <td>0</td>\n",
       "      <td>2</td>\n",
       "    </tr>\n",
       "    <tr>\n",
       "      <th>3492674554</th>\n",
       "      <td>0</td>\n",
       "      <td>1</td>\n",
       "    </tr>\n",
       "    <tr>\n",
       "      <th>3492674557</th>\n",
       "      <td>1</td>\n",
       "      <td>1</td>\n",
       "    </tr>\n",
       "    <tr>\n",
       "      <th>3492674563</th>\n",
       "      <td>2</td>\n",
       "      <td>1</td>\n",
       "    </tr>\n",
       "    <tr>\n",
       "      <th>3492674564</th>\n",
       "      <td>0</td>\n",
       "      <td>99</td>\n",
       "    </tr>\n",
       "    <tr>\n",
       "      <th>3492674565</th>\n",
       "      <td>0</td>\n",
       "      <td>1</td>\n",
       "    </tr>\n",
       "    <tr>\n",
       "      <th>99</th>\n",
       "      <td>1</td>\n",
       "      <td>1</td>\n",
       "    </tr>\n",
       "    <tr>\n",
       "      <th>101</th>\n",
       "      <td>2</td>\n",
       "      <td>2</td>\n",
       "    </tr>\n",
       "  </tbody>\n",
       "</table>\n",
       "</div>"
      ],
      "text/plain": [
       "             2   7\n",
       "3492674532   0   1\n",
       "3492674533   0   0\n",
       "3492674534   0   0\n",
       "3492674535   0  99\n",
       "3492674537   1  99\n",
       "3492674539   0  99\n",
       "3492674540   0   0\n",
       "3492674544   0  99\n",
       "3492674549   0   1\n",
       "3492674550   0   2\n",
       "3492674552   0   2\n",
       "3492674554   0   1\n",
       "3492674557   1   1\n",
       "3492674563   2   1\n",
       "3492674564   0  99\n",
       "3492674565   0   1\n",
       "99           1   1\n",
       "101          2   2"
      ]
     },
     "execution_count": 87,
     "metadata": {},
     "output_type": "execute_result"
    }
   ],
   "source": [
    "threat_3"
   ]
  },
  {
   "cell_type": "code",
   "execution_count": 32,
   "id": "7fca0f94",
   "metadata": {},
   "outputs": [
    {
     "data": {
      "text/plain": [
       "0.0018957345971564149"
      ]
     },
     "execution_count": 32,
     "metadata": {},
     "output_type": "execute_result"
    }
   ],
   "source": [
    "irr.fleiss_kappa(irr.aggregate_raters(threat_3)[0], method='fleiss')"
   ]
  },
  {
   "cell_type": "code",
   "execution_count": 33,
   "id": "09515ca1-1dcb-4345-b2e6-77210f6443c4",
   "metadata": {},
   "outputs": [
    {
     "data": {
      "text/plain": [
       "0.19310490693739424"
      ]
     },
     "execution_count": 33,
     "metadata": {},
     "output_type": "execute_result"
    }
   ],
   "source": [
    "irr.fleiss_kappa(irr.aggregate_raters(power_5)[0], method='fleiss')"
   ]
  },
  {
   "cell_type": "code",
   "execution_count": 36,
   "id": "05f01522",
   "metadata": {},
   "outputs": [],
   "source": [
    "data_threat = irr.aggregate_raters(threat_3)[0]\n",
    "                        \n",
    "percentages_threat = []\n",
    "\n",
    "for i in data_threat:\n",
    "    percentages_threat.append(max(i)/3)"
   ]
  },
  {
   "cell_type": "code",
   "execution_count": 90,
   "id": "1fcf13d8-a0d0-43c6-b606-1c3c9b4f59be",
   "metadata": {},
   "outputs": [
    {
     "data": {
      "text/plain": [
       "0.6666666666666666"
      ]
     },
     "execution_count": 90,
     "metadata": {},
     "output_type": "execute_result"
    }
   ],
   "source": [
    "percentages_threat[16]"
   ]
  },
  {
   "cell_type": "code",
   "execution_count": 37,
   "id": "830eaaed",
   "metadata": {},
   "outputs": [
    {
     "data": {
      "text/plain": [
       "0.5925925925925926"
      ]
     },
     "execution_count": 37,
     "metadata": {},
     "output_type": "execute_result"
    }
   ],
   "source": [
    "import statistics\n",
    "statistics.mean(percentages_threat)"
   ]
  },
  {
   "cell_type": "code",
   "execution_count": 38,
   "id": "43c16254",
   "metadata": {},
   "outputs": [
    {
     "data": {
      "text/plain": [
       "0.6666666666666666"
      ]
     },
     "execution_count": 38,
     "metadata": {},
     "output_type": "execute_result"
    }
   ],
   "source": [
    "statistics.median(percentages_threat)"
   ]
  },
  {
   "cell_type": "code",
   "execution_count": 39,
   "id": "7ba0ad94",
   "metadata": {},
   "outputs": [
    {
     "data": {
      "text/plain": [
       "0.6666666666666666"
      ]
     },
     "execution_count": 39,
     "metadata": {},
     "output_type": "execute_result"
    }
   ],
   "source": [
    "statistics.mode(percentages_threat)"
   ]
  },
  {
   "cell_type": "code",
   "execution_count": 99,
   "id": "d74ad04c",
   "metadata": {},
   "outputs": [],
   "source": [
    "power_annotations = power_annotations[['5f3c4372d64ff120268a0b0b', '62b2476fc924f1a048bd412b', '592fbec4cf0d9600010e8a89', '594ee6531ebf4800018a4854', '60d432ce6e413e7509dd4b78']]"
   ]
  },
  {
   "cell_type": "code",
   "execution_count": 40,
   "id": "137b31ee",
   "metadata": {},
   "outputs": [
    {
     "data": {
      "text/plain": [
       "0.19310490693739424"
      ]
     },
     "execution_count": 40,
     "metadata": {},
     "output_type": "execute_result"
    }
   ],
   "source": [
    "irr.fleiss_kappa(irr.aggregate_raters(power_5)[0], method='fleiss')"
   ]
  },
  {
   "cell_type": "code",
   "execution_count": 41,
   "id": "14f0795a",
   "metadata": {},
   "outputs": [],
   "source": [
    "data_power = irr.aggregate_raters(power_5)[0]\n",
    "                        \n",
    "percentages_power = []\n",
    "\n",
    "for i in data_power:\n",
    "    percentages_power.append(max(i)/5)"
   ]
  },
  {
   "cell_type": "code",
   "execution_count": 42,
   "id": "415db13d",
   "metadata": {},
   "outputs": [
    {
     "data": {
      "text/plain": [
       "0.6666666666666666"
      ]
     },
     "execution_count": 42,
     "metadata": {},
     "output_type": "execute_result"
    }
   ],
   "source": [
    "statistics.mean(percentages_power)"
   ]
  },
  {
   "cell_type": "code",
   "execution_count": 43,
   "id": "3a02fc30",
   "metadata": {},
   "outputs": [
    {
     "data": {
      "text/plain": [
       "0.6"
      ]
     },
     "execution_count": 43,
     "metadata": {},
     "output_type": "execute_result"
    }
   ],
   "source": [
    "statistics.median(percentages_power)"
   ]
  },
  {
   "cell_type": "code",
   "execution_count": 104,
   "id": "8c71875e",
   "metadata": {},
   "outputs": [
    {
     "data": {
      "text/plain": [
       "0.6"
      ]
     },
     "execution_count": 104,
     "metadata": {},
     "output_type": "execute_result"
    }
   ],
   "source": [
    "statistics.mode(percentages_power)"
   ]
  },
  {
   "cell_type": "markdown",
   "id": "78de95ec",
   "metadata": {},
   "source": [
    "## Do informative agreement analysis"
   ]
  },
  {
   "cell_type": "markdown",
   "id": "26647d8a-e1f1-42c1-a739-14d6d8c724eb",
   "metadata": {},
   "source": [
    "### Discussion topic?"
   ]
  },
  {
   "cell_type": "code",
   "execution_count": 49,
   "id": "5745488c",
   "metadata": {},
   "outputs": [
    {
     "ename": "NameError",
     "evalue": "name 'discussion_topic_annotations' is not defined",
     "output_type": "error",
     "traceback": [
      "\u001b[0;31m---------------------------------------------------------------------------\u001b[0m",
      "\u001b[0;31mNameError\u001b[0m                                 Traceback (most recent call last)",
      "\u001b[0;32m<ipython-input-49-6f9b8ed2c864>\u001b[0m in \u001b[0;36m<module>\u001b[0;34m\u001b[0m\n\u001b[0;32m----> 1\u001b[0;31m \u001b[0mdiscussion_topic_annotations\u001b[0m\u001b[0;34m[\u001b[0m\u001b[0;34m:\u001b[0m\u001b[0;36m5\u001b[0m\u001b[0;34m]\u001b[0m\u001b[0;34m\u001b[0m\u001b[0;34m\u001b[0m\u001b[0m\n\u001b[0m",
      "\u001b[0;31mNameError\u001b[0m: name 'discussion_topic_annotations' is not defined"
     ]
    }
   ],
   "source": [
    "discussion_topic_annotations[:5]"
   ]
  },
  {
   "cell_type": "code",
   "execution_count": 161,
   "id": "82dc5421-51cc-44a4-85b2-c3c1780584a6",
   "metadata": {},
   "outputs": [],
   "source": [
    "majority_annotator = discussion_topic_annotations.mode(axis='columns').values.tolist()"
   ]
  },
  {
   "cell_type": "code",
   "execution_count": 162,
   "id": "d0e5649c-975f-4739-91bd-fecddb856bb9",
   "metadata": {},
   "outputs": [],
   "source": [
    "annotator_1 = list(discussion_topic_annotations['63d3fd1b0a21df494a093c51'])\n",
    "annotator_2 = list(discussion_topic_annotations['5f60bbdf0c4792015f140d30'])\n",
    "annotator_3 = list(discussion_topic_annotations['612f36ffdba08ffd6032560a'])\n",
    "annotator_4 = list(discussion_topic_annotations['613f25c7b60b1f9c170a6db3'])\n",
    "annotator_5 = list(discussion_topic_annotations['615a0198a1a2d449a781b8a5'])"
   ]
  },
  {
   "cell_type": "markdown",
   "id": "68be5fab-d4cd-4752-abab-b6d0d8764b70",
   "metadata": {},
   "source": [
    "### individuals w majority"
   ]
  },
  {
   "cell_type": "code",
   "execution_count": 168,
   "id": "66e1588d-980a-4b79-a91b-9e14bbf60a51",
   "metadata": {},
   "outputs": [
    {
     "data": {
      "text/plain": [
       "[Text(0.5, 13.5, 'Annotator1'), Text(31.5, 0.5, 'majority_annotator')]"
      ]
     },
     "execution_count": 168,
     "metadata": {},
     "output_type": "execute_result"
    },
    {
     "data": {
      "image/png": "[encoded data removed]",
      "text/plain": [
       "<Figure size 432x288 with 2 Axes>"
      ]
     },
     "metadata": {},
     "output_type": "display_data"
    }
   ],
   "source": [
    "from sklearn.metrics import confusion_matrix\n",
    "import seaborn as sns\n",
    "\n",
    "matrix = confusion_matrix(annotator_1, majority_annotator)\n",
    "\n",
    "sns.set(font_scale=0.8)\n",
    "ax = sns.heatmap(matrix, annot=True, annot_kws={\"size\": 16}, fmt='g')\n",
    "ax.set(xlabel=\"Annotator1\",\n",
    "       ylabel=\"majority_annotator\")    "
   ]
  },
  {
   "cell_type": "code",
   "execution_count": 170,
   "id": "c9ef090a-5184-4b5d-969c-9317a23d3473",
   "metadata": {},
   "outputs": [
    {
     "data": {
      "text/plain": [
       "[Text(0.5, 13.5, 'Annotator1'), Text(31.5, 0.5, 'majority_annotator')]"
      ]
     },
     "execution_count": 170,
     "metadata": {},
     "output_type": "execute_result"
    },
    {
     "data": {
      "image/png": "[encoded data removed]",
      "text/plain": [
       "<Figure size 432x288 with 2 Axes>"
      ]
     },
     "metadata": {},
     "output_type": "display_data"
    }
   ],
   "source": [
    "from sklearn.metrics import confusion_matrix\n",
    "import seaborn as sns\n",
    "\n",
    "matrix = confusion_matrix(annotator_2, majority_annotator)\n",
    "\n",
    "sns.set(font_scale=0.8)\n",
    "ax = sns.heatmap(matrix, annot=True, annot_kws={\"size\": 16}, fmt='g')\n",
    "ax.set(xlabel=\"Annotator1\",\n",
    "       ylabel=\"majority_annotator\")    "
   ]
  },
  {
   "cell_type": "code",
   "execution_count": 171,
   "id": "a216646a-76bb-404a-99ea-f6b4b40aa99b",
   "metadata": {},
   "outputs": [
    {
     "data": {
      "text/plain": [
       "[Text(0.5, 13.5, 'Annotator1'), Text(31.5, 0.5, 'majority_annotator')]"
      ]
     },
     "execution_count": 171,
     "metadata": {},
     "output_type": "execute_result"
    },
    {
     "data": {
      "image/png": "[encoded data removed]",
      "text/plain": [
       "<Figure size 432x288 with 2 Axes>"
      ]
     },
     "metadata": {},
     "output_type": "display_data"
    }
   ],
   "source": [
    "from sklearn.metrics import confusion_matrix\n",
    "import seaborn as sns\n",
    "\n",
    "matrix = confusion_matrix(annotator_3, majority_annotator)\n",
    "\n",
    "sns.set(font_scale=0.8)\n",
    "ax = sns.heatmap(matrix, annot=True, annot_kws={\"size\": 16}, fmt='g')\n",
    "ax.set(xlabel=\"Annotator1\",\n",
    "       ylabel=\"majority_annotator\")    "
   ]
  },
  {
   "cell_type": "code",
   "execution_count": 172,
   "id": "b29fffbe-c82d-46b8-b435-eae0181fa7a0",
   "metadata": {},
   "outputs": [
    {
     "data": {
      "text/plain": [
       "[Text(0.5, 13.5, 'Annotator1'), Text(31.5, 0.5, 'majority_annotator')]"
      ]
     },
     "execution_count": 172,
     "metadata": {},
     "output_type": "execute_result"
    },
    {
     "data": {
      "image/png": "[encoded data removed]",
      "text/plain": [
       "<Figure size 432x288 with 2 Axes>"
      ]
     },
     "metadata": {},
     "output_type": "display_data"
    }
   ],
   "source": [
    "from sklearn.metrics import confusion_matrix\n",
    "import seaborn as sns\n",
    "\n",
    "matrix = confusion_matrix(annotator_4, majority_annotator)\n",
    "\n",
    "sns.set(font_scale=0.8)\n",
    "ax = sns.heatmap(matrix, annot=True, annot_kws={\"size\": 16}, fmt='g')\n",
    "ax.set(xlabel=\"Annotator1\",\n",
    "       ylabel=\"majority_annotator\")    "
   ]
  },
  {
   "cell_type": "code",
   "execution_count": 173,
   "id": "b8d66cf6-30cb-4d19-ab51-8bcf2f2273f1",
   "metadata": {},
   "outputs": [
    {
     "data": {
      "text/plain": [
       "[Text(0.5, 13.5, 'Annotator1'), Text(31.5, 0.5, 'majority_annotator')]"
      ]
     },
     "execution_count": 173,
     "metadata": {},
     "output_type": "execute_result"
    },
    {
     "data": {
      "image/png": "[encoded data removed]",
      "text/plain": [
       "<Figure size 432x288 with 2 Axes>"
      ]
     },
     "metadata": {},
     "output_type": "display_data"
    }
   ],
   "source": [
    "from sklearn.metrics import confusion_matrix\n",
    "import seaborn as sns\n",
    "\n",
    "matrix = confusion_matrix(annotator_5, majority_annotator)\n",
    "\n",
    "sns.set(font_scale=0.8)\n",
    "ax = sns.heatmap(matrix, annot=True, annot_kws={\"size\": 16}, fmt='g')\n",
    "ax.set(xlabel=\"Annotator1\",\n",
    "       ylabel=\"majority_annotator\")    "
   ]
  },
  {
   "cell_type": "markdown",
   "id": "393b97f3-9613-4ae1-a9b1-fdf759fb9d3a",
   "metadata": {},
   "source": [
    "### each individual in pairs"
   ]
  },
  {
   "cell_type": "code",
   "execution_count": 128,
   "id": "0509f0ac-0ad0-43e7-b0ed-146881d584c1",
   "metadata": {},
   "outputs": [
    {
     "data": {
      "text/plain": [
       "[Text(0.5, 13.5, 'Annotator1'), Text(31.5, 0.5, 'Annotator2')]"
      ]
     },
     "execution_count": 128,
     "metadata": {},
     "output_type": "execute_result"
    },
    {
     "data": {
      "image/png": "[encoded data removed]",
      "text/plain": [
       "<Figure size 432x288 with 2 Axes>"
      ]
     },
     "metadata": {},
     "output_type": "display_data"
    }
   ],
   "source": [
    "from sklearn.metrics import confusion_matrix\n",
    "import seaborn as sns\n",
    "\n",
    "matrix = confusion_matrix(annotator_1, annotator_2)\n",
    "\n",
    "sns.set(font_scale=0.8)\n",
    "ax = sns.heatmap(matrix, annot=True, annot_kws={\"size\": 16}, fmt='g')\n",
    "ax.set(xlabel=\"Annotator1\",\n",
    "       ylabel=\"Annotator2\")    "
   ]
  },
  {
   "cell_type": "code",
   "execution_count": 164,
   "id": "097d0c4e-a367-4894-9595-c46a6b7f79d3",
   "metadata": {},
   "outputs": [
    {
     "data": {
      "text/plain": [
       "[Text(0.5, 13.5, 'Annotator2'), Text(31.5, 0.5, 'Annotator3')]"
      ]
     },
     "execution_count": 164,
     "metadata": {},
     "output_type": "execute_result"
    },
    {
     "data": {
      "image/png": "[encoded data removed]",
      "text/plain": [
       "<Figure size 432x288 with 2 Axes>"
      ]
     },
     "metadata": {},
     "output_type": "display_data"
    }
   ],
   "source": [
    "from sklearn.metrics import confusion_matrix\n",
    "import seaborn as sns\n",
    "\n",
    "matrix = confusion_matrix(annotator_2, annotator_3)\n",
    "\n",
    "sns.set(font_scale=0.8)\n",
    "ax = sns.heatmap(matrix, annot=True, annot_kws={\"size\": 16}, fmt='g')\n",
    "ax.set(xlabel=\"Annotator2\",\n",
    "       ylabel=\"Annotator3\")   "
   ]
  },
  {
   "cell_type": "code",
   "execution_count": 166,
   "id": "c2e2ec73-1ed0-43f5-9d26-e7a74d319817",
   "metadata": {},
   "outputs": [
    {
     "data": {
      "text/plain": [
       "[Text(0.5, 13.5, 'Annotator3'), Text(31.5, 0.5, 'Annotator4')]"
      ]
     },
     "execution_count": 166,
     "metadata": {},
     "output_type": "execute_result"
    },
    {
     "data": {
      "image/png": "[encoded data removed]",
      "text/plain": [
       "<Figure size 432x288 with 2 Axes>"
      ]
     },
     "metadata": {},
     "output_type": "display_data"
    }
   ],
   "source": [
    "from sklearn.metrics import confusion_matrix\n",
    "import seaborn as sns\n",
    "\n",
    "matrix = confusion_matrix(annotator_3, annotator_4)\n",
    "\n",
    "sns.set(font_scale=0.8)\n",
    "ax = sns.heatmap(matrix, annot=True, annot_kws={\"size\": 16}, fmt='g')\n",
    "ax.set(xlabel=\"Annotator3\",\n",
    "       ylabel=\"Annotator4\")   "
   ]
  },
  {
   "cell_type": "code",
   "execution_count": 167,
   "id": "46c924dd-54f1-4e5d-9356-7e33de83c50f",
   "metadata": {},
   "outputs": [
    {
     "data": {
      "text/plain": [
       "[Text(0.5, 13.5, 'Annotator3'), Text(31.5, 0.5, 'Annotator4')]"
      ]
     },
     "execution_count": 167,
     "metadata": {},
     "output_type": "execute_result"
    },
    {
     "data": {
      "image/png": "[encoded data removed]",
      "text/plain": [
       "<Figure size 432x288 with 2 Axes>"
      ]
     },
     "metadata": {},
     "output_type": "display_data"
    }
   ],
   "source": [
    "from sklearn.metrics import confusion_matrix\n",
    "import seaborn as sns\n",
    "\n",
    "matrix = confusion_matrix(annotator_4, annotator_5)\n",
    "\n",
    "sns.set(font_scale=0.8)\n",
    "ax = sns.heatmap(matrix, annot=True, annot_kws={\"size\": 16}, fmt='g')\n",
    "ax.set(xlabel=\"Annotator3\",\n",
    "       ylabel=\"Annotator4\")   "
   ]
  },
  {
   "cell_type": "markdown",
   "id": "1c843e25-1842-465b-8f06-2ec345b80a61",
   "metadata": {},
   "source": [
    "### stance"
   ]
  },
  {
   "cell_type": "code",
   "execution_count": 175,
   "id": "405b62b6-c518-455a-9556-a231ea49ac4e",
   "metadata": {},
   "outputs": [
    {
     "data": {
      "text/html": [
       "<div>\n",
       "<style scoped>\n",
       "    .dataframe tbody tr th:only-of-type {\n",
       "        vertical-align: middle;\n",
       "    }\n",
       "\n",
       "    .dataframe tbody tr th {\n",
       "        vertical-align: top;\n",
       "    }\n",
       "\n",
       "    .dataframe thead th {\n",
       "        text-align: right;\n",
       "    }\n",
       "</style>\n",
       "<table border=\"1\" class=\"dataframe\">\n",
       "  <thead>\n",
       "    <tr style=\"text-align: right;\">\n",
       "      <th>What is your Prolific ID?\n",
       "\n",
       "Please note that this response should auto</th>\n",
       "      <th>63d3fd1b0a21df494a093c51</th>\n",
       "      <th>5f60bbdf0c4792015f140d30</th>\n",
       "      <th>612f36ffdba08ffd6032560a</th>\n",
       "      <th>613f25c7b60b1f9c170a6db3</th>\n",
       "      <th>615a0198a1a2d449a781b8a5</th>\n",
       "    </tr>\n",
       "  </thead>\n",
       "  <tbody>\n",
       "    <tr>\n",
       "      <th>3495845393</th>\n",
       "      <td>1</td>\n",
       "      <td>1</td>\n",
       "      <td>1</td>\n",
       "      <td>1</td>\n",
       "      <td>1</td>\n",
       "    </tr>\n",
       "    <tr>\n",
       "      <th>3495845394</th>\n",
       "      <td>1</td>\n",
       "      <td>1</td>\n",
       "      <td>1</td>\n",
       "      <td>2</td>\n",
       "      <td>1</td>\n",
       "    </tr>\n",
       "  </tbody>\n",
       "</table>\n",
       "</div>"
      ],
      "text/plain": [
       "What is your Prolific ID?\n",
       "\n",
       "Please note that this response should auto 63d3fd1b0a21df494a093c51 5f60bbdf0c4792015f140d30 612f36ffdba08ffd6032560a 613f25c7b60b1f9c170a6db3 615a0198a1a2d449a781b8a5\n",
       "3495845393                                                                                   1                        1                        1                        1                        1\n",
       "3495845394                                                                                   1                        1                        1                        2                        1"
      ]
     },
     "execution_count": 175,
     "metadata": {},
     "output_type": "execute_result"
    }
   ],
   "source": [
    "stance_annotations[:2]"
   ]
  },
  {
   "cell_type": "code",
   "execution_count": 183,
   "id": "c26a7d30-fd55-4e9c-b429-ce0465598a11",
   "metadata": {},
   "outputs": [],
   "source": [
    "majority_annotate = stance_annotations.mode(axis='columns').values.tolist()"
   ]
  },
  {
   "cell_type": "code",
   "execution_count": 185,
   "id": "158e9ec1-83fa-4ae7-a4c1-5dd29e053088",
   "metadata": {},
   "outputs": [],
   "source": [
    "majority_annotator = [item[0] for item in majority_annotate]"
   ]
  },
  {
   "cell_type": "code",
   "execution_count": 186,
   "id": "ed5ec245-80fc-470a-bb46-064ca99a1873",
   "metadata": {},
   "outputs": [],
   "source": [
    "annotator_1 = list(stance_annotations['63d3fd1b0a21df494a093c51'])\n",
    "annotator_2 = list(stance_annotations['5f60bbdf0c4792015f140d30'])\n",
    "annotator_3 = list(stance_annotations['612f36ffdba08ffd6032560a'])\n",
    "annotator_4 = list(stance_annotations['613f25c7b60b1f9c170a6db3'])\n",
    "annotator_5 = list(stance_annotations['615a0198a1a2d449a781b8a5'])"
   ]
  },
  {
   "cell_type": "code",
   "execution_count": null,
   "id": "6de2444b-b4a8-48a3-8202-09b6fb437878",
   "metadata": {},
   "outputs": [],
   "source": [
    "stance_annotations = stance_annotations.replace(\"SUPPORT\", 1)\n",
    "stance_annotations = stance_annotations.replace(\"REJECT\", 2)\n",
    "stance_annotations = stance_annotations.replace(\"NEUTRAL\", 0)"
   ]
  },
  {
   "cell_type": "code",
   "execution_count": 198,
   "id": "a28b0cf9-83c5-47bd-8c4e-956fcece91a6",
   "metadata": {},
   "outputs": [],
   "source": [
    "# stance_annotations"
   ]
  },
  {
   "cell_type": "code",
   "execution_count": 200,
   "id": "219f340c-03a6-44f1-9dc7-f0cbfaaefdf8",
   "metadata": {},
   "outputs": [
    {
     "data": {
      "text/plain": [
       "[Text(0.5, 13.5, 'Annotator1'), Text(31.5, 0.5, 'majority_annotator')]"
      ]
     },
     "execution_count": 200,
     "metadata": {},
     "output_type": "execute_result"
    },
    {
     "data": {
      "image/png": "[encoded data removed]",
      "text/plain": [
       "<Figure size 432x288 with 2 Axes>"
      ]
     },
     "metadata": {},
     "output_type": "display_data"
    }
   ],
   "source": [
    "from sklearn.metrics import confusion_matrix\n",
    "import seaborn as sns\n",
    "\n",
    "matrix = confusion_matrix(annotator_1, majority_annotator)\n",
    "\n",
    "sns.set(font_scale=0.8)\n",
    "ax = sns.heatmap(matrix, annot=True, annot_kws={\"size\": 16}, fmt='g')\n",
    "ax.set(xlabel=\"Annotator1\",\n",
    "       ylabel=\"majority_annotator\")    "
   ]
  },
  {
   "cell_type": "code",
   "execution_count": 188,
   "id": "f3704edc-bd3e-416b-8d9d-696f9c7ad88e",
   "metadata": {},
   "outputs": [
    {
     "data": {
      "text/plain": [
       "[Text(0.5, 13.5, 'Annotator1'), Text(31.5, 0.5, 'majority_annotator')]"
      ]
     },
     "execution_count": 188,
     "metadata": {},
     "output_type": "execute_result"
    },
    {
     "data": {
      "image/png": "[encoded data removed]",
      "text/plain": [
       "<Figure size 432x288 with 2 Axes>"
      ]
     },
     "metadata": {},
     "output_type": "display_data"
    }
   ],
   "source": [
    "from sklearn.metrics import confusion_matrix\n",
    "import seaborn as sns\n",
    "\n",
    "matrix = confusion_matrix(annotator_2, majority_annotator)\n",
    "\n",
    "sns.set(font_scale=0.8)\n",
    "ax = sns.heatmap(matrix, annot=True, annot_kws={\"size\": 16}, fmt='g')\n",
    "ax.set(xlabel=\"Annotator1\",\n",
    "       ylabel=\"majority_annotator\")    "
   ]
  },
  {
   "cell_type": "code",
   "execution_count": 190,
   "id": "8b67129f-0071-4eb0-8927-7547b73877d4",
   "metadata": {},
   "outputs": [
    {
     "data": {
      "text/plain": [
       "[Text(0.5, 13.5, 'Annotator3'), Text(31.5, 0.5, 'majority_annotator')]"
      ]
     },
     "execution_count": 190,
     "metadata": {},
     "output_type": "execute_result"
    },
    {
     "data": {
      "image/png": "[encoded data removed]",
      "text/plain": [
       "<Figure size 432x288 with 2 Axes>"
      ]
     },
     "metadata": {},
     "output_type": "display_data"
    }
   ],
   "source": [
    "from sklearn.metrics import confusion_matrix\n",
    "import seaborn as sns\n",
    "\n",
    "matrix = confusion_matrix(annotator_3, majority_annotator)\n",
    "\n",
    "sns.set(font_scale=0.8)\n",
    "ax = sns.heatmap(matrix, annot=True, annot_kws={\"size\": 16}, fmt='g')\n",
    "ax.set(xlabel=\"Annotator3\",\n",
    "       ylabel=\"majority_annotator\")   "
   ]
  },
  {
   "cell_type": "code",
   "execution_count": 191,
   "id": "d76edc39-2f6a-41c0-a8fa-76f80181ea36",
   "metadata": {},
   "outputs": [
    {
     "data": {
      "text/plain": [
       "[Text(0.5, 13.5, 'Annotator3'), Text(31.5, 0.5, 'majority_annotator')]"
      ]
     },
     "execution_count": 191,
     "metadata": {},
     "output_type": "execute_result"
    },
    {
     "data": {
      "image/png": "[encoded data removed]",
      "text/plain": [
       "<Figure size 432x288 with 2 Axes>"
      ]
     },
     "metadata": {},
     "output_type": "display_data"
    }
   ],
   "source": [
    "from sklearn.metrics import confusion_matrix\n",
    "import seaborn as sns\n",
    "\n",
    "matrix = confusion_matrix(annotator_4, majority_annotator)\n",
    "\n",
    "sns.set(font_scale=0.8)\n",
    "ax = sns.heatmap(matrix, annot=True, annot_kws={\"size\": 16}, fmt='g')\n",
    "ax.set(xlabel=\"Annotator3\",\n",
    "       ylabel=\"majority_annotator\")   "
   ]
  },
  {
   "cell_type": "code",
   "execution_count": 192,
   "id": "cf4de595-3364-4d8f-a77c-21396ca9eac2",
   "metadata": {},
   "outputs": [
    {
     "data": {
      "text/plain": [
       "[Text(0.5, 13.5, 'Annotator3'), Text(31.5, 0.5, 'majority_annotator')]"
      ]
     },
     "execution_count": 192,
     "metadata": {},
     "output_type": "execute_result"
    },
    {
     "data": {
      "image/png": "[encoded data removed]",
      "text/plain": [
       "<Figure size 432x288 with 2 Axes>"
      ]
     },
     "metadata": {},
     "output_type": "display_data"
    }
   ],
   "source": [
    "from sklearn.metrics import confusion_matrix\n",
    "import seaborn as sns\n",
    "\n",
    "matrix = confusion_matrix(annotator_5, majority_annotator)\n",
    "\n",
    "sns.set(font_scale=0.8)\n",
    "ax = sns.heatmap(matrix, annot=True, annot_kws={\"size\": 16}, fmt='g')\n",
    "ax.set(xlabel=\"Annotator3\",\n",
    "       ylabel=\"majority_annotator\")   "
   ]
  },
  {
   "cell_type": "markdown",
   "id": "8b4c6b34-3893-4e05-9dea-6145e06bd414",
   "metadata": {},
   "source": [
    "### power"
   ]
  },
  {
   "cell_type": "code",
   "execution_count": 202,
   "id": "144680b6-bc9e-44a9-9bee-628b2e0f69af",
   "metadata": {},
   "outputs": [
    {
     "data": {
      "text/html": [
       "<div>\n",
       "<style scoped>\n",
       "    .dataframe tbody tr th:only-of-type {\n",
       "        vertical-align: middle;\n",
       "    }\n",
       "\n",
       "    .dataframe tbody tr th {\n",
       "        vertical-align: top;\n",
       "    }\n",
       "\n",
       "    .dataframe thead th {\n",
       "        text-align: right;\n",
       "    }\n",
       "</style>\n",
       "<table border=\"1\" class=\"dataframe\">\n",
       "  <thead>\n",
       "    <tr style=\"text-align: right;\">\n",
       "      <th>What is your Prolific ID?\n",
       "\n",
       "Please note that this response should auto</th>\n",
       "      <th>5f3c4372d64ff120268a0b0b</th>\n",
       "      <th>62b2476fc924f1a048bd412b</th>\n",
       "      <th>592fbec4cf0d9600010e8a89</th>\n",
       "      <th>594ee6531ebf4800018a4854</th>\n",
       "      <th>60d432ce6e413e7509dd4b78</th>\n",
       "      <th>mode</th>\n",
       "    </tr>\n",
       "  </thead>\n",
       "  <tbody>\n",
       "    <tr>\n",
       "      <th>34958453933492674527</th>\n",
       "      <td>2</td>\n",
       "      <td>2</td>\n",
       "      <td>2</td>\n",
       "      <td>1</td>\n",
       "      <td>2</td>\n",
       "      <td>2.0</td>\n",
       "    </tr>\n",
       "    <tr>\n",
       "      <th>3492674531</th>\n",
       "      <td>1</td>\n",
       "      <td>0</td>\n",
       "      <td>0</td>\n",
       "      <td>2</td>\n",
       "      <td>0</td>\n",
       "      <td>0.0</td>\n",
       "    </tr>\n",
       "  </tbody>\n",
       "</table>\n",
       "</div>"
      ],
      "text/plain": [
       "What is your Prolific ID?\n",
       "\n",
       "Please note that this response should auto  5f3c4372d64ff120268a0b0b  62b2476fc924f1a048bd412b  592fbec4cf0d9600010e8a89  594ee6531ebf4800018a4854  60d432ce6e413e7509dd4b78  mode\n",
       "34958453933492674527                                                                          2                         2                         2                         1                         2   2.0\n",
       "3492674531                                                                                    1                         0                         0                         2                         0   0.0"
      ]
     },
     "execution_count": 202,
     "metadata": {},
     "output_type": "execute_result"
    }
   ],
   "source": [
    "power_annotations[:2]"
   ]
  },
  {
   "cell_type": "code",
   "execution_count": 210,
   "id": "18c8bb4b-b705-4942-96c8-9b3c522165a0",
   "metadata": {},
   "outputs": [],
   "source": [
    "majority_annotate = power_annotations[\"mode\"]"
   ]
  },
  {
   "cell_type": "code",
   "execution_count": 205,
   "id": "001c38b5-b55d-4ac9-80d6-227bd0cfd892",
   "metadata": {},
   "outputs": [],
   "source": [
    "# majority_annotate"
   ]
  },
  {
   "cell_type": "code",
   "execution_count": 214,
   "id": "14ffb794-c946-4245-bfb7-487e04ae5b3a",
   "metadata": {},
   "outputs": [
    {
     "data": {
      "text/plain": [
       "68"
      ]
     },
     "execution_count": 214,
     "metadata": {},
     "output_type": "execute_result"
    }
   ],
   "source": [
    "len(power_annotations)"
   ]
  },
  {
   "cell_type": "code",
   "execution_count": 215,
   "id": "0deeed53-4207-4bd2-9c4b-b938bbcdced0",
   "metadata": {},
   "outputs": [
    {
     "data": {
      "text/plain": [
       "68"
      ]
     },
     "execution_count": 215,
     "metadata": {},
     "output_type": "execute_result"
    }
   ],
   "source": [
    "len(majority_annotate)"
   ]
  },
  {
   "cell_type": "code",
   "execution_count": 211,
   "id": "fe1e0e61-99b5-43bb-bf0e-040d5ce7305b",
   "metadata": {},
   "outputs": [],
   "source": [
    "annotator_1 = list(power_annotations['5f3c4372d64ff120268a0b0b'])\n",
    "annotator_2 = list(power_annotations['62b2476fc924f1a048bd412b'])\n",
    "annotator_3 = list(power_annotations['592fbec4cf0d9600010e8a89'])\n",
    "annotator_4 = list(power_annotations['594ee6531ebf4800018a4854'])\n",
    "annotator_5 = list(power_annotations['60d432ce6e413e7509dd4b78'])"
   ]
  },
  {
   "cell_type": "code",
   "execution_count": 216,
   "id": "8c2e58c6-81bc-42ed-af5f-826f3cd5dfef",
   "metadata": {},
   "outputs": [
    {
     "data": {
      "text/plain": [
       "[Text(0.5, 13.5, 'Annotator1'), Text(31.5, 0.5, 'majority_annotator')]"
      ]
     },
     "execution_count": 216,
     "metadata": {},
     "output_type": "execute_result"
    },
    {
     "data": {
      "image/png": "[encoded data removed]",
      "text/plain": [
       "<Figure size 432x288 with 2 Axes>"
      ]
     },
     "metadata": {},
     "output_type": "display_data"
    }
   ],
   "source": [
    "from sklearn.metrics import confusion_matrix\n",
    "import seaborn as sns\n",
    "\n",
    "matrix = confusion_matrix(annotator_1, majority_annotate)\n",
    "\n",
    "sns.set(font_scale=0.8)\n",
    "ax = sns.heatmap(matrix, annot=True, annot_kws={\"size\": 16}, fmt='g')\n",
    "ax.set(xlabel=\"Annotator1\",\n",
    "       ylabel=\"majority_annotator\")    "
   ]
  },
  {
   "cell_type": "code",
   "execution_count": 217,
   "id": "4e43a013-9d5d-4248-afef-767e2a3da682",
   "metadata": {},
   "outputs": [
    {
     "data": {
      "text/plain": [
       "[Text(0.5, 13.5, 'Annotator1'), Text(31.5, 0.5, 'majority_annotator')]"
      ]
     },
     "execution_count": 217,
     "metadata": {},
     "output_type": "execute_result"
    },
    {
     "data": {
      "image/png": "[encoded data removed]",
      "text/plain": [
       "<Figure size 432x288 with 2 Axes>"
      ]
     },
     "metadata": {},
     "output_type": "display_data"
    }
   ],
   "source": [
    "from sklearn.metrics import confusion_matrix\n",
    "import seaborn as sns\n",
    "\n",
    "matrix = confusion_matrix(annotator_2, majority_annotate)\n",
    "\n",
    "sns.set(font_scale=0.8)\n",
    "ax = sns.heatmap(matrix, annot=True, annot_kws={\"size\": 16}, fmt='g')\n",
    "ax.set(xlabel=\"Annotator1\",\n",
    "       ylabel=\"majority_annotator\")    "
   ]
  },
  {
   "cell_type": "code",
   "execution_count": 219,
   "id": "af06eb0f-528e-4c0c-a416-dd0b4f2408b2",
   "metadata": {},
   "outputs": [
    {
     "data": {
      "text/plain": [
       "[Text(0.5, 13.5, 'Annotator1'), Text(31.5, 0.5, 'majority_annotator')]"
      ]
     },
     "execution_count": 219,
     "metadata": {},
     "output_type": "execute_result"
    },
    {
     "data": {
      "image/png": "[encoded data removed]",
      "text/plain": [
       "<Figure size 432x288 with 2 Axes>"
      ]
     },
     "metadata": {},
     "output_type": "display_data"
    }
   ],
   "source": [
    "from sklearn.metrics import confusion_matrix\n",
    "import seaborn as sns\n",
    "\n",
    "matrix = confusion_matrix(annotator_3, majority_annotate)\n",
    "\n",
    "sns.set(font_scale=0.8)\n",
    "ax = sns.heatmap(matrix, annot=True, annot_kws={\"size\": 16}, fmt='g')\n",
    "ax.set(xlabel=\"Annotator1\",\n",
    "       ylabel=\"majority_annotator\")    "
   ]
  },
  {
   "cell_type": "code",
   "execution_count": 220,
   "id": "56e8f311-5bf8-43a1-8b76-02f2276abc74",
   "metadata": {},
   "outputs": [
    {
     "data": {
      "text/plain": [
       "[Text(0.5, 13.5, 'Annotator1'), Text(31.5, 0.5, 'majority_annotator')]"
      ]
     },
     "execution_count": 220,
     "metadata": {},
     "output_type": "execute_result"
    },
    {
     "data": {
      "image/png": "[encoded data removed]",
      "text/plain": [
       "<Figure size 432x288 with 2 Axes>"
      ]
     },
     "metadata": {},
     "output_type": "display_data"
    }
   ],
   "source": [
    "from sklearn.metrics import confusion_matrix\n",
    "import seaborn as sns\n",
    "\n",
    "matrix = confusion_matrix(annotator_4, majority_annotate)\n",
    "\n",
    "sns.set(font_scale=0.8)\n",
    "ax = sns.heatmap(matrix, annot=True, annot_kws={\"size\": 16}, fmt='g')\n",
    "ax.set(xlabel=\"Annotator1\",\n",
    "       ylabel=\"majority_annotator\")    "
   ]
  },
  {
   "cell_type": "code",
   "execution_count": 221,
   "id": "ab647e64-4c5f-4a1b-bad2-1331369adb20",
   "metadata": {},
   "outputs": [
    {
     "data": {
      "text/plain": [
       "[Text(0.5, 13.5, 'Annotator1'), Text(31.5, 0.5, 'majority_annotator')]"
      ]
     },
     "execution_count": 221,
     "metadata": {},
     "output_type": "execute_result"
    },
    {
     "data": {
      "image/png": "[encoded data removed]",
      "text/plain": [
       "<Figure size 432x288 with 2 Axes>"
      ]
     },
     "metadata": {},
     "output_type": "display_data"
    }
   ],
   "source": [
    "from sklearn.metrics import confusion_matrix\n",
    "import seaborn as sns\n",
    "\n",
    "matrix = confusion_matrix(annotator_5, majority_annotate)\n",
    "\n",
    "sns.set(font_scale=0.8)\n",
    "ax = sns.heatmap(matrix, annot=True, annot_kws={\"size\": 16}, fmt='g')\n",
    "ax.set(xlabel=\"Annotator1\",\n",
    "       ylabel=\"majority_annotator\")    "
   ]
  },
  {
   "cell_type": "markdown",
   "id": "3bd7c3b4-bfbc-4cb2-8690-863741336e98",
   "metadata": {},
   "source": [
    "### threat?"
   ]
  },
  {
   "cell_type": "code",
   "execution_count": 223,
   "id": "0cab93e0-3ec8-405a-a535-fe947d9158ac",
   "metadata": {},
   "outputs": [
    {
     "data": {
      "text/html": [
       "<div>\n",
       "<style scoped>\n",
       "    .dataframe tbody tr th:only-of-type {\n",
       "        vertical-align: middle;\n",
       "    }\n",
       "\n",
       "    .dataframe tbody tr th {\n",
       "        vertical-align: top;\n",
       "    }\n",
       "\n",
       "    .dataframe thead th {\n",
       "        text-align: right;\n",
       "    }\n",
       "</style>\n",
       "<table border=\"1\" class=\"dataframe\">\n",
       "  <thead>\n",
       "    <tr style=\"text-align: right;\">\n",
       "      <th>What is your Prolific ID?\n",
       "\n",
       "Please note that this response should auto</th>\n",
       "      <th>5f3c4372d64ff120268a0b0b</th>\n",
       "      <th>62b2476fc924f1a048bd412b</th>\n",
       "      <th>592fbec4cf0d9600010e8a89</th>\n",
       "      <th>594ee6531ebf4800018a4854</th>\n",
       "      <th>60d432ce6e413e7509dd4b78</th>\n",
       "    </tr>\n",
       "  </thead>\n",
       "  <tbody>\n",
       "    <tr>\n",
       "      <th>34958453933492674527</th>\n",
       "      <td>0</td>\n",
       "      <td>0</td>\n",
       "      <td>1</td>\n",
       "      <td>0</td>\n",
       "      <td>1</td>\n",
       "    </tr>\n",
       "    <tr>\n",
       "      <th>3492674531</th>\n",
       "      <td>0</td>\n",
       "      <td>0</td>\n",
       "      <td>0</td>\n",
       "      <td>1</td>\n",
       "      <td>0</td>\n",
       "    </tr>\n",
       "  </tbody>\n",
       "</table>\n",
       "</div>"
      ],
      "text/plain": [
       "What is your Prolific ID?\n",
       "\n",
       "Please note that this response should auto  5f3c4372d64ff120268a0b0b  62b2476fc924f1a048bd412b  592fbec4cf0d9600010e8a89  594ee6531ebf4800018a4854  60d432ce6e413e7509dd4b78\n",
       "34958453933492674527                                                                          0                         0                         1                         0                         1\n",
       "3492674531                                                                                    0                         0                         0                         1                         0"
      ]
     },
     "execution_count": 223,
     "metadata": {},
     "output_type": "execute_result"
    }
   ],
   "source": [
    "threat_annotations[:2]"
   ]
  },
  {
   "cell_type": "code",
   "execution_count": 224,
   "id": "e3c387e2-3026-4cff-ab78-fab7a0fdf096",
   "metadata": {},
   "outputs": [],
   "source": [
    "annotator_1 = list(threat_annotations['5f3c4372d64ff120268a0b0b'])\n",
    "annotator_2 = list(threat_annotations['62b2476fc924f1a048bd412b'])\n",
    "annotator_3 = list(threat_annotations['592fbec4cf0d9600010e8a89'])\n",
    "annotator_4 = list(threat_annotations['594ee6531ebf4800018a4854'])\n",
    "annotator_5 = list(threat_annotations['60d432ce6e413e7509dd4b78'])"
   ]
  },
  {
   "cell_type": "code",
   "execution_count": 230,
   "id": "f017ca3a-3b2f-4372-b347-cce9d870a26e",
   "metadata": {},
   "outputs": [],
   "source": [
    "majority_annotator = threat_annotations.mode(axis='columns').values.tolist()"
   ]
  },
  {
   "cell_type": "code",
   "execution_count": 231,
   "id": "9c5c4c48-2df1-4490-8b85-b5817662c1ef",
   "metadata": {},
   "outputs": [],
   "source": [
    "majority_annotate = [item[0] for item in majority_annotator]"
   ]
  },
  {
   "cell_type": "code",
   "execution_count": 232,
   "id": "dc635be9-bbac-4c36-8eee-c4b7326b44bd",
   "metadata": {},
   "outputs": [
    {
     "data": {
      "text/plain": [
       "[Text(0.5, 13.5, 'Annotator1'), Text(31.5, 0.5, 'majority_annotator')]"
      ]
     },
     "execution_count": 232,
     "metadata": {},
     "output_type": "execute_result"
    },
    {
     "data": {
      "image/png": "[encoded data removed]",
      "text/plain": [
       "<Figure size 432x288 with 2 Axes>"
      ]
     },
     "metadata": {},
     "output_type": "display_data"
    }
   ],
   "source": [
    "from sklearn.metrics import confusion_matrix\n",
    "import seaborn as sns\n",
    "\n",
    "matrix = confusion_matrix(annotator_1, majority_annotate)\n",
    "\n",
    "sns.set(font_scale=0.8)\n",
    "ax = sns.heatmap(matrix, annot=True, annot_kws={\"size\": 16}, fmt='g')\n",
    "ax.set(xlabel=\"Annotator1\",\n",
    "       ylabel=\"majority_annotator\")    "
   ]
  },
  {
   "cell_type": "code",
   "execution_count": 233,
   "id": "7e055795-7645-438a-8a19-04c66967d347",
   "metadata": {},
   "outputs": [
    {
     "data": {
      "text/plain": [
       "[Text(0.5, 13.5, 'Annotator1'), Text(31.5, 0.5, 'majority_annotator')]"
      ]
     },
     "execution_count": 233,
     "metadata": {},
     "output_type": "execute_result"
    },
    {
     "data": {
      "image/png": "[encoded data removed]",
      "text/plain": [
       "<Figure size 432x288 with 2 Axes>"
      ]
     },
     "metadata": {},
     "output_type": "display_data"
    }
   ],
   "source": [
    "from sklearn.metrics import confusion_matrix\n",
    "import seaborn as sns\n",
    "\n",
    "matrix = confusion_matrix(annotator_2, majority_annotate)\n",
    "\n",
    "sns.set(font_scale=0.8)\n",
    "ax = sns.heatmap(matrix, annot=True, annot_kws={\"size\": 16}, fmt='g')\n",
    "ax.set(xlabel=\"Annotator1\",\n",
    "       ylabel=\"majority_annotator\")    "
   ]
  },
  {
   "cell_type": "code",
   "execution_count": 234,
   "id": "03583ec5-2169-4e7e-926d-93cfe63a0986",
   "metadata": {},
   "outputs": [
    {
     "data": {
      "text/plain": [
       "[Text(0.5, 13.5, 'Annotator1'), Text(31.5, 0.5, 'majority_annotator')]"
      ]
     },
     "execution_count": 234,
     "metadata": {},
     "output_type": "execute_result"
    },
    {
     "data": {
      "image/png": "[encoded data removed]",
      "text/plain": [
       "<Figure size 432x288 with 2 Axes>"
      ]
     },
     "metadata": {},
     "output_type": "display_data"
    }
   ],
   "source": [
    "from sklearn.metrics import confusion_matrix\n",
    "import seaborn as sns\n",
    "\n",
    "matrix = confusion_matrix(annotator_3, majority_annotate)\n",
    "\n",
    "sns.set(font_scale=0.8)\n",
    "ax = sns.heatmap(matrix, annot=True, annot_kws={\"size\": 16}, fmt='g')\n",
    "ax.set(xlabel=\"Annotator1\",\n",
    "       ylabel=\"majority_annotator\")    "
   ]
  },
  {
   "cell_type": "code",
   "execution_count": 235,
   "id": "122cf35b-efc2-497d-b852-e3bb765935af",
   "metadata": {},
   "outputs": [
    {
     "data": {
      "text/plain": [
       "[Text(0.5, 13.5, 'Annotator1'), Text(31.5, 0.5, 'majority_annotator')]"
      ]
     },
     "execution_count": 235,
     "metadata": {},
     "output_type": "execute_result"
    },
    {
     "data": {
      "image/png": "[encoded data removed]",
      "text/plain": [
       "<Figure size 432x288 with 2 Axes>"
      ]
     },
     "metadata": {},
     "output_type": "display_data"
    }
   ],
   "source": [
    "from sklearn.metrics import confusion_matrix\n",
    "import seaborn as sns\n",
    "\n",
    "matrix = confusion_matrix(annotator_4, majority_annotate)\n",
    "\n",
    "sns.set(font_scale=0.8)\n",
    "ax = sns.heatmap(matrix, annot=True, annot_kws={\"size\": 16}, fmt='g')\n",
    "ax.set(xlabel=\"Annotator1\",\n",
    "       ylabel=\"majority_annotator\")    "
   ]
  },
  {
   "cell_type": "code",
   "execution_count": 236,
   "id": "bd52da13-f0de-44a4-97ef-9a5a05c08c57",
   "metadata": {},
   "outputs": [
    {
     "data": {
      "text/plain": [
       "[Text(0.5, 13.5, 'Annotator1'), Text(31.5, 0.5, 'majority_annotator')]"
      ]
     },
     "execution_count": 236,
     "metadata": {},
     "output_type": "execute_result"
    },
    {
     "data": {
      "image/png": "[encoded data removed]",
      "text/plain": [
       "<Figure size 432x288 with 2 Axes>"
      ]
     },
     "metadata": {},
     "output_type": "display_data"
    }
   ],
   "source": [
    "from sklearn.metrics import confusion_matrix\n",
    "import seaborn as sns\n",
    "\n",
    "matrix = confusion_matrix(annotator_5, majority_annotate)\n",
    "\n",
    "sns.set(font_scale=0.8)\n",
    "ax = sns.heatmap(matrix, annot=True, annot_kws={\"size\": 16}, fmt='g')\n",
    "ax.set(xlabel=\"Annotator1\",\n",
    "       ylabel=\"majority_annotator\")    "
   ]
  },
  {
   "cell_type": "code",
   "execution_count": null,
   "id": "7276f605-12d4-4102-855b-6452d6f5cdc2",
   "metadata": {},
   "outputs": [],
   "source": []
  }
 ],
 "metadata": {
  "kernelspec": {
   "display_name": "Python 3",
   "language": "python",
   "name": "python3"
  },
  "language_info": {
   "codemirror_mode": {
    "name": "ipython",
    "version": 3
   },
   "file_extension": ".py",
   "mimetype": "text/x-python",
   "name": "python",
   "nbconvert_exporter": "python",
   "pygments_lexer": "ipython3",
   "version": "3.9.5"
  }
 },
 "nbformat": 4,
 "nbformat_minor": 5
}
